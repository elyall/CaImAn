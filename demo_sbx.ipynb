{
 "cells": [
  {
   "cell_type": "code",
   "execution_count": 1,
   "metadata": {},
   "outputs": [
    {
     "name": "stdout",
     "output_type": "stream",
     "text": [
      "1\n"
     ]
    },
    {
     "data": {
      "text/html": [
       "\n",
       "    <div class=\"bk-banner\">\n",
       "        <a href=\"http://bokeh.pydata.org\" target=\"_blank\" class=\"bk-logo bk-logo-small bk-logo-notebook\"></a>\n",
       "        <span id=\"bf5d1ec8-e43b-422b-8d09-eb9a0bc7a8a8\">Loading BokehJS ...</span>\n",
       "    </div>"
      ]
     },
     "metadata": {},
     "output_type": "display_data"
    },
    {
     "data": {
      "application/javascript": [
       "\n",
       "(function(global) {\n",
       "  function now() {\n",
       "    return new Date();\n",
       "  }\n",
       "\n",
       "  if (typeof (window._bokeh_onload_callbacks) === \"undefined\") {\n",
       "    window._bokeh_onload_callbacks = [];\n",
       "  }\n",
       "\n",
       "  function run_callbacks() {\n",
       "    window._bokeh_onload_callbacks.forEach(function(callback) { callback() });\n",
       "    delete window._bokeh_onload_callbacks\n",
       "    console.info(\"Bokeh: all callbacks have finished\");\n",
       "  }\n",
       "\n",
       "  function load_libs(js_urls, callback) {\n",
       "    window._bokeh_onload_callbacks.push(callback);\n",
       "    if (window._bokeh_is_loading > 0) {\n",
       "      console.log(\"Bokeh: BokehJS is being loaded, scheduling callback at\", now());\n",
       "      return null;\n",
       "    }\n",
       "    if (js_urls == null || js_urls.length === 0) {\n",
       "      run_callbacks();\n",
       "      return null;\n",
       "    }\n",
       "    console.log(\"Bokeh: BokehJS not loaded, scheduling load and callback at\", now());\n",
       "    window._bokeh_is_loading = js_urls.length;\n",
       "    for (var i = 0; i < js_urls.length; i++) {\n",
       "      var url = js_urls[i];\n",
       "      var s = document.createElement('script');\n",
       "      s.src = url;\n",
       "      s.async = false;\n",
       "      s.onreadystatechange = s.onload = function() {\n",
       "        window._bokeh_is_loading--;\n",
       "        if (window._bokeh_is_loading === 0) {\n",
       "          console.log(\"Bokeh: all BokehJS libraries loaded\");\n",
       "          run_callbacks()\n",
       "        }\n",
       "      };\n",
       "      s.onerror = function() {\n",
       "        console.warn(\"failed to load library \" + url);\n",
       "      };\n",
       "      console.log(\"Bokeh: injecting script tag for BokehJS library: \", url);\n",
       "      document.getElementsByTagName(\"head\")[0].appendChild(s);\n",
       "    }\n",
       "  };\n",
       "\n",
       "  var js_urls = ['https://cdn.pydata.org/bokeh/release/bokeh-0.11.1.min.js', 'https://cdn.pydata.org/bokeh/release/bokeh-widgets-0.11.1.min.js', 'https://cdn.pydata.org/bokeh/release/bokeh-compiler-0.11.1.min.js'];\n",
       "\n",
       "  var inline_js = [\n",
       "    function(Bokeh) {\n",
       "      Bokeh.set_log_level(\"info\");\n",
       "    },\n",
       "    \n",
       "    function(Bokeh) {\n",
       "      Bokeh.$(\"#bf5d1ec8-e43b-422b-8d09-eb9a0bc7a8a8\").text(\"BokehJS successfully loaded\");\n",
       "    },\n",
       "    function(Bokeh) {\n",
       "      console.log(\"Bokeh: injecting CSS: https://cdn.pydata.org/bokeh/release/bokeh-0.11.1.min.css\");\n",
       "      Bokeh.embed.inject_css(\"https://cdn.pydata.org/bokeh/release/bokeh-0.11.1.min.css\");\n",
       "      console.log(\"Bokeh: injecting CSS: https://cdn.pydata.org/bokeh/release/bokeh-widgets-0.11.1.min.css\");\n",
       "      Bokeh.embed.inject_css(\"https://cdn.pydata.org/bokeh/release/bokeh-widgets-0.11.1.min.css\");\n",
       "    }\n",
       "  ];\n",
       "\n",
       "  function run_inline_js() {\n",
       "    for (var i = 0; i < inline_js.length; i++) {\n",
       "      inline_js[i](window.Bokeh);\n",
       "    }\n",
       "  }\n",
       "\n",
       "  if (window._bokeh_is_loading === 0) {\n",
       "    console.log(\"Bokeh: BokehJS loaded, going straight to plotting\");\n",
       "    run_inline_js();\n",
       "  } else {\n",
       "    load_libs(js_urls, function() {\n",
       "      console.log(\"Bokeh: BokehJS plotting callback run at\", now());\n",
       "      run_inline_js();\n",
       "    });\n",
       "  }\n",
       "}(this));"
      ]
     },
     "metadata": {},
     "output_type": "display_data"
    }
   ],
   "source": [
    "%matplotlib inline\n",
    "try:\n",
    "    get_ipython().magic(u'load_ext autoreload')\n",
    "    get_ipython().magic(u'autoreload 2')\n",
    "    print(1)\n",
    "except:\n",
    "    print('NOT IPYTHON')\n",
    "\n",
    "import sys\n",
    "import numpy as np\n",
    "import psutil\n",
    "from scipy.ndimage.filters import gaussian_filter\n",
    "from ipyparallel import Client\n",
    "\n",
    "import caiman as cm\n",
    "from caiman.utils.visualization import nb_view_patches3d,plot_contours,view_patches_bar,nb_plot_contour,nb_view_patches\n",
    "import caiman.source_extraction.cnmf as cnmf\n",
    "from caiman.components_evaluation import evaluate_components\n",
    "\n",
    "import matplotlib.pyplot as plt\n",
    "import bokeh.plotting as bpl\n",
    "bpl.output_notebook()"
   ]
  },
  {
   "cell_type": "code",
   "execution_count": 2,
   "metadata": {
    "collapsed": true
   },
   "outputs": [],
   "source": [
    "fname='/Users/elyall/Dropbox/Data/2479_150721_500_small.sbx'\n",
    "#fname='/Users/elyall/Dropbox/Data/2479_150721_500.sbx'\n",
    "\n",
    "#fname='/home/elyall/Dropbox/Data/2479_150721_500_small.sbx'\n",
    "#fname='/home/elyall/Dropbox/Data/2479_150721_500.sbx'"
   ]
  },
  {
   "cell_type": "code",
   "execution_count": 3,
   "metadata": {},
   "outputs": [
    {
     "name": "stdout",
     "output_type": "stream",
     "text": [
      "sbx\n",
      "(499, 40, 60)\n"
     ]
    },
    {
     "data": {
      "text/plain": [
       "<matplotlib.image.AxesImage at 0x118ad9668>"
      ]
     },
     "execution_count": 3,
     "metadata": {},
     "output_type": "execute_result"
    },
    {
     "data": {
      "image/png": "[encoded data removed]",
      "text/plain": [
       "<matplotlib.figure.Figure at 0x1187daef0>"
      ]
     },
     "metadata": {},
     "output_type": "display_data"
    }
   ],
   "source": [
    "# TEST LOADING\n",
    "Data = cm.base.movies.load(fname)\n",
    "print(Data.shape)\n",
    "plt.imshow(Data.mean(0))"
   ]
  },
  {
   "cell_type": "markdown",
   "metadata": {
    "collapsed": true
   },
   "source": [
    "# Start Cluster"
   ]
  },
  {
   "cell_type": "code",
   "execution_count": 4,
   "metadata": {},
   "outputs": [
    {
     "name": "stdout",
     "output_type": "stream",
     "text": [
      "Client did not exist, creating one\n",
      "Stopping cluster...\n",
      "NOT SLURM\n",
      "Waiting for cluster to stop....... done\n",
      "Starting cluster...Waiting for connection file: ~/.ipython/profile_default/security/ipcontroller-client.json\n",
      "......Using 8 processes\n"
     ]
    }
   ],
   "source": [
    "# START CLUSTER\n",
    "n_processes = None # None to use all processes\n",
    "c, dview, n_processes = cm.cluster.setup_cluster(\n",
    "    backend='local', n_processes=n_processes, single_thread=False)"
   ]
  },
  {
   "cell_type": "markdown",
   "metadata": {},
   "source": [
    "# MOTION CORRECTION"
   ]
  },
  {
   "cell_type": "code",
   "execution_count": 5,
   "metadata": {},
   "outputs": [
    {
     "name": "stdout",
     "output_type": "stream",
     "text": [
      "Rigid Motion Correction\n",
      "63705\n"
     ]
    },
    {
     "name": "stderr",
     "output_type": "stream",
     "text": [
      "/Users/elyall/Documents/AdesnikLab/Code/CaImAn/caiman/base/movies.py:241: UserWarning: Casting the array to float 32\n",
      "  warnings.warn('Casting the array to float 32')\n",
      "/Users/elyall/Documents/AdesnikLab/Code/CaImAn/caiman/base/movies.py:327: UserWarning: Casting the array to float 32\n",
      "  warnings.warn('Casting the array to float 32')\n"
     ]
    },
    {
     "name": "stdout",
     "output_type": "stream",
     "text": [
      "Frame 100\n",
      "Frame 200\n",
      "Frame 300\n",
      "Frame 400\n",
      "Frame 500\n",
      "cubic interpolation\n",
      "Frame 100\n",
      "Frame 200\n",
      "Frame 300\n",
      "Frame 400\n",
      "Frame 500\n",
      "Frame 100\n",
      "Frame 200\n",
      "Frame 300\n",
      "Frame 400\n",
      "Frame 500\n",
      "cubic interpolation\n",
      "Frame 100\n",
      "Frame 200\n",
      "Frame 300\n",
      "Frame 400\n",
      "Frame 500\n",
      "Frame 100\n",
      "Frame 200\n",
      "Frame 300\n",
      "Frame 400\n",
      "Frame 500\n",
      "cubic interpolation\n",
      "Frame 100\n",
      "Frame 200\n",
      "Frame 300\n",
      "Frame 400\n",
      "Frame 500\n",
      "Adding to movie 63705\n",
      "0\n",
      "saving!\n",
      "5.282209157943726\n",
      "0.0732869\n"
     ]
    },
    {
     "data": {
      "text/plain": [
       "<matplotlib.text.Text at 0x11ab24978>"
      ]
     },
     "execution_count": 5,
     "metadata": {},
     "output_type": "execute_result"
    },
    {
     "data": {
      "image/png": "[encoded data removed]",
      "text/plain": [
       "<matplotlib.figure.Figure at 0x1187eada0>"
      ]
     },
     "metadata": {},
     "output_type": "display_data"
    }
   ],
   "source": [
    "# set parameters\n",
    "params_movie = {'fname': fname,\n",
    "                'niter_rig': 1,\n",
    "                'max_shifts': (6, 6),  # maximum allow rigid shift\n",
    "                'splits_rig': 56,  # for parallelization split the movies in  num_splits chuncks across time\n",
    "                # if none all the splits are processed and the movie is saved\n",
    "                'num_splits_to_process_rig': None,\n",
    "                # intervals at which patches are laid out for motion correction\n",
    "                'strides': (48, 48),\n",
    "                # overlap between pathes (size of patch strides+overlaps)\n",
    "                'overlaps': (24, 24),\n",
    "                'splits_els': 56,  # for parallelization split the movies in  num_splits chuncks across time\n",
    "                # if none all the splits are processed and the movie is saved\n",
    "                'num_splits_to_process_els': [28, None],\n",
    "                'upsample_factor_grid': 4,  # upsample factor to avoid smearing when merging patches\n",
    "                # maximum deviation allowed for patch with respect to rigid\n",
    "                # shift\n",
    "                'max_deviation_rigid': 3,\n",
    "                'p': 1,  # order of the autoregressive system\n",
    "                'merge_thresh': 0.8,  # merging threshold, max correlation allowed\n",
    "                'rf': 15,  # half-size of the patches in pixels. rf=25, patches are 50x50\n",
    "                'stride_cnmf': 6,  # amounpl.it of overlap between the patches in pixels\n",
    "                'K': 4,  # number of components per patch\n",
    "                # if dendritic. In this case you need to set init_method to\n",
    "                # sparse_nmf\n",
    "                'is_dendrites': False,\n",
    "                'init_method': 'greedy_roi',\n",
    "                'gSig': [4, 4],  # expected half size of neurons\n",
    "                'alpha_snmf': None,  # this controls sparsity\n",
    "                'final_frate': 15.46\n",
    "                }\n",
    "\n",
    "#%% parameters from dictionary\n",
    "fname = params_movie['fname']\n",
    "niter_rig = params_movie['niter_rig']\n",
    "# maximum allow rigid shift\n",
    "max_shifts = params_movie['max_shifts']  \n",
    "# for parallelization split the movies in  num_splits chuncks across time\n",
    "splits_rig = params_movie['splits_rig']  \n",
    "# if none all the splits are processed and the movie is saved\n",
    "num_splits_to_process_rig = params_movie['num_splits_to_process_rig']\n",
    "# intervals at which patches are laid out for motion correction\n",
    "strides = params_movie['strides']\n",
    "# overlap between pathes (size of patch strides+overlaps)\n",
    "overlaps = params_movie['overlaps']\n",
    "# for parallelization split the movies in  num_splits chuncks across time\n",
    "splits_els = params_movie['splits_els'] \n",
    "# if none all the splits are processed and the movie is saved\n",
    "num_splits_to_process_els = params_movie['num_splits_to_process_els']\n",
    "# upsample factor to avoid smearing when merging patches\n",
    "upsample_factor_grid = params_movie['upsample_factor_grid'] \n",
    "# maximum deviation allowed for patch with respect to rigid\n",
    "# shift\n",
    "max_deviation_rigid = params_movie['max_deviation_rigid']\n",
    "\n",
    "# perform rigid motion correction (movie must be mostly positive for this to work)\n",
    "min_mov = cm.load(fname, subindices=range(400)).min()\n",
    "mc = cm.motion_correction.MotionCorrect(fname, min_mov,\n",
    "                   dview=dview, max_shifts=max_shifts, niter_rig=niter_rig, splits_rig=splits_rig, \n",
    "                   num_splits_to_process_rig=num_splits_to_process_rig, \n",
    "                   strides= strides, overlaps= overlaps, splits_els=splits_els,\n",
    "                   num_splits_to_process_els=num_splits_to_process_els, \n",
    "                   upsample_factor_grid=upsample_factor_grid, max_deviation_rigid=max_deviation_rigid, \n",
    "                   shifts_opencv=True, nonneg_movie=True)\n",
    "\n",
    "mc.motion_correct_rigid(save_movie=False)\n",
    "\n",
    "# display correction\n",
    "plt.plot(mc.shifts_rig)\n",
    "plt.legend(['x shifts','y shifts'])\n",
    "plt.xlabel('frames')\n",
    "plt.ylabel('pixels')"
   ]
  },
  {
   "cell_type": "code",
   "execution_count": 6,
   "metadata": {},
   "outputs": [
    {
     "name": "stdout",
     "output_type": "stream",
     "text": [
      "/Users/elyall/Dropbox/Data/2479_150721_500_small.sbx\n",
      "sbx\n",
      "cubic interpolation\n",
      "Frame 100\n",
      "Frame 200\n",
      "Frame 300\n",
      "Frame 400\n",
      "/Users/elyall/Dropbox/Data/Yr_d1_40_d2_60_d3_1_order_F_frames_499_.mmap\n"
     ]
    },
    {
     "name": "stderr",
     "output_type": "stream",
     "text": [
      "/Users/elyall/Documents/AdesnikLab/Code/CaImAn/caiman/base/movies.py:327: UserWarning: Casting the array to float 32\n",
      "  warnings.warn('Casting the array to float 32')\n"
     ]
    }
   ],
   "source": [
    "# SAVE DATA TO MEMMAP FILE\n",
    "fname = cm.save_memmap([fname], base_name='Yr', xy_shifts=mc.shifts_rig)\n",
    "print(fname)"
   ]
  },
  {
   "cell_type": "code",
   "execution_count": 18,
   "metadata": {},
   "outputs": [
    {
     "name": "stdout",
     "output_type": "stream",
     "text": [
      "<class 'numpy.core.memmap.memmap'> (2400, 499) (40, 60) 499\n"
     ]
    }
   ],
   "source": [
    "# LOAD MemMap FILE\n",
    "Yr, dims, T = cm.load_memmap(fname)\n",
    "print(type(Yr),Yr.shape,dims,T)"
   ]
  },
  {
   "cell_type": "code",
   "execution_count": 39,
   "metadata": {},
   "outputs": [
    {
     "name": "stdout",
     "output_type": "stream",
     "text": [
      "sbx\n",
      "linear interpolation\n",
      "Frame 100\n",
      "Frame 200\n",
      "Frame 300\n",
      "Frame 400\n",
      "<class 'caiman.base.movies.movie'> (2400, 499)\n"
     ]
    },
    {
     "name": "stderr",
     "output_type": "stream",
     "text": [
      "/Users/elyall/Documents/AdesnikLab/Code/CaImAn/caiman/base/movies.py:327: UserWarning: Casting the array to float 32\n",
      "  warnings.warn('Casting the array to float 32')\n"
     ]
    }
   ],
   "source": [
    "# LOAD Direct FILE\n",
    "fn='/Users/elyall/Dropbox/Data/2479_150721_500_small.sbx'\n",
    "Yr = cm.base.movies.load(fn)\n",
    "Yr = Yr.apply_shifts(mc.shifts_rig)\n",
    "Yr = Yr.transpose([2,1,0]).reshape([40*60,499])\n",
    "print(type(Yr),Yr.shape)"
   ]
  },
  {
   "cell_type": "code",
   "execution_count": 40,
   "metadata": {},
   "outputs": [
    {
     "data": {
      "image/png": "[encoded data removed]",
      "text/plain": [
       "<matplotlib.figure.Figure at 0x11bffc0f0>"
      ]
     },
     "metadata": {},
     "output_type": "display_data"
    }
   ],
   "source": [
    "# Compute local correlations to get a sense of the data\n",
    "Y = np.reshape(Yr, dims + (T,), order='F')\n",
    "Cn = cm.local_correlations(Y)\n",
    "plt.imshow(Cn.max(0) if len(Cn.shape) == 3 else Cn, cmap='gray',\n",
    "           vmin=np.percentile(Cn, 1), vmax=np.percentile(Cn, 99))\n",
    "plt.show()"
   ]
  },
  {
   "cell_type": "markdown",
   "metadata": {},
   "source": [
    "# CNMF"
   ]
  },
  {
   "cell_type": "code",
   "execution_count": 9,
   "metadata": {},
   "outputs": [
    {
     "name": "stdout",
     "output_type": "stream",
     "text": [
      "(499, 40, 60)\n",
      "using 8 processes\n",
      "using 4000 pixels per process\n",
      "using 20000 block_size\n",
      "(40, 51)\n",
      "(40, 50)\n",
      "You may think that it went well but reality is harsh\n",
      "0.8878669738769531\n",
      "Transforming patches into full matrix\n",
      "Skipped %d Empty Patch 0\n",
      "Generating background\n",
      "using 8 processes\n",
      "using 4000 pixels per process\n",
      "using 20000 block_size\n",
      "merging\n",
      "[1 2 6]\n",
      "[0 3 5]\n",
      "done merging\n",
      "********** No neurons merged! ***************\n",
      "done merging\n",
      "update temporal\n",
      "Generating residuals\n",
      "parallel dot product block size: 20000\n",
      "Start product\n",
      "Transposing\n",
      "2399\n",
      "entering the deconvolution \n"
     ]
    },
    {
     "name": "stderr",
     "output_type": "stream",
     "text": [
      "/Users/elyall/anaconda/envs/CaImAn/lib/python3.5/site-packages/scipy/sparse/compressed.py:774: SparseEfficiencyWarning: Changing the sparsity structure of a csc_matrix is expensive. lil_matrix is more efficient.\n",
      "  SparseEfficiencyWarning)\n"
     ]
    },
    {
     "name": "stdout",
     "output_type": "stream",
     "text": [
      "2 out of total 4 temporal components updated\n",
      "3 out of total 4 temporal components updated\n",
      "4 out of total 4 temporal components updated\n",
      "2 out of total 4 temporal components updated\n",
      "3 out of total 4 temporal components updated\n",
      "4 out of total 4 temporal components updated\n",
      "stopping: overall temporal component not changing significantly\n"
     ]
    }
   ],
   "source": [
    "# SET PATCHES TO SPLIT\n",
    "K = 4  # number of neurons expected per patch\n",
    "# single patch\n",
    "rf = None\n",
    "stride = None\n",
    "# full field of view\n",
    "rf = (25, 25)  # half-size of the patches in pixels. rf=25, patches are 50x50\n",
    "stride = (10, 10)  # amount of overlap between the patches in pixels\n",
    "\n",
    "# SET PARAMETERS\n",
    "gSig = [10, 10]  # expected half size of neurons\n",
    "merge_thresh = 0.8  # merging threshold, max correlation allowed\n",
    "p = 2  # order of the autoregressive system\n",
    "init_method = 'greedy_roi'\n",
    "method_deconvolution='oasis' # 'oasis' is fastest\n",
    "alpha_snmf = None  # 10e2  # this controls sparsity\n",
    "save_results = False\n",
    "\n",
    "# INIT\n",
    "cnm = cnmf.CNMF(n_processes, k=K, gSig=gSig, merge_thresh=0.8, p=p, dview=c[:], Ain=None, rf=rf, stride=stride, memory_fact=1,\n",
    "                method_init=init_method, alpha_snmf=alpha_snmf, only_init_patch=True, gnb=1, method_deconvolution=method_deconvolution)\n",
    "\n",
    "# FIT\n",
    "images = np.reshape(Yr.T, [T] + list(dims), order='F')\n",
    "cnm = cnm.fit(images)"
   ]
  },
  {
   "cell_type": "code",
   "execution_count": 10,
   "metadata": {},
   "outputs": [
    {
     "name": "stderr",
     "output_type": "stream",
     "text": [
      "/Users/elyall/Documents/AdesnikLab/Code/CaImAn/caiman/utils/visualization.py:897: UserWarning: The way to call utilities.plot_contours has changed. Look at the definition for more details.\n",
      "  warn(\"The way to call utilities.plot_contours has changed. Look at the definition for more details.\")\n"
     ]
    },
    {
     "data": {
      "text/html": [
       "\n",
       "\n",
       "    <div class=\"plotdiv\" id=\"e8e89fde-7aae-43d9-a2fd-fc152cbd0a78\"></div>\n",
       "<script type=\"text/javascript\">\n",
       "  \n",
       "  (function(global) {\n",
       "    function now() {\n",
       "      return new Date();\n",
       "    }\n",
       "  \n",
       "    if (typeof (window._bokeh_onload_callbacks) === \"undefined\") {\n",
       "      window._bokeh_onload_callbacks = [];\n",
       "    }\n",
       "  \n",
       "    function run_callbacks() {\n",
       "      window._bokeh_onload_callbacks.forEach(function(callback) { callback() });\n",
       "      delete window._bokeh_onload_callbacks\n",
       "      console.info(\"Bokeh: all callbacks have finished\");\n",
       "    }\n",
       "  \n",
       "    function load_libs(js_urls, callback) {\n",
       "      window._bokeh_onload_callbacks.push(callback);\n",
       "      if (window._bokeh_is_loading > 0) {\n",
       "        console.log(\"Bokeh: BokehJS is being loaded, scheduling callback at\", now());\n",
       "        return null;\n",
       "      }\n",
       "      if (js_urls == null || js_urls.length === 0) {\n",
       "        run_callbacks();\n",
       "        return null;\n",
       "      }\n",
       "      console.log(\"Bokeh: BokehJS not loaded, scheduling load and callback at\", now());\n",
       "      window._bokeh_is_loading = js_urls.length;\n",
       "      for (var i = 0; i < js_urls.length; i++) {\n",
       "        var url = js_urls[i];\n",
       "        var s = document.createElement('script');\n",
       "        s.src = url;\n",
       "        s.async = false;\n",
       "        s.onreadystatechange = s.onload = function() {\n",
       "          window._bokeh_is_loading--;\n",
       "          if (window._bokeh_is_loading === 0) {\n",
       "            console.log(\"Bokeh: all BokehJS libraries loaded\");\n",
       "            run_callbacks()\n",
       "          }\n",
       "        };\n",
       "        s.onerror = function() {\n",
       "          console.warn(\"failed to load library \" + url);\n",
       "        };\n",
       "        console.log(\"Bokeh: injecting script tag for BokehJS library: \", url);\n",
       "        document.getElementsByTagName(\"head\")[0].appendChild(s);\n",
       "      }\n",
       "    };var element = document.getElementById(\"e8e89fde-7aae-43d9-a2fd-fc152cbd0a78\");\n",
       "    if (element == null) {\n",
       "      console.log(\"Bokeh: ERROR: autoload.js configured with elementid 'e8e89fde-7aae-43d9-a2fd-fc152cbd0a78' but no matching script tag was found. \")\n",
       "      return false;\n",
       "    }\n",
       "  \n",
       "    var js_urls = [];\n",
       "  \n",
       "    var inline_js = [\n",
       "      function(Bokeh) {\n",
       "        Bokeh.$(function() {\n",
       "            var docs_json = {\"172bacd6-0a8a-4687-8a54-75583f9ac62f\":{\"roots\":{\"references\":[{\"attributes\":{},\"id\":\"441b21e0-a88c-4202-abcd-ca758791def2\",\"type\":\"BasicTicker\"},{\"attributes\":{\"color_mapper\":{\"id\":\"33c10f26-48db-4cdb-94a4-72deb7a4b1e5\",\"type\":\"LinearColorMapper\"},\"dh\":{\"units\":\"data\",\"value\":40},\"dw\":{\"units\":\"data\",\"value\":60},\"image\":{\"field\":\"image\"},\"x\":{\"value\":0},\"y\":{\"value\":40}},\"id\":\"fcc036ef-e881-468d-987e-80addca24a0f\",\"type\":\"Image\"},{\"attributes\":{\"plot\":{\"id\":\"a36941bf-c94e-428a-bf1a-e8975cd410df\",\"subtype\":\"Figure\",\"type\":\"Plot\"},\"ticker\":{\"id\":\"fa13a7ec-2d4b-43f5-8a44-de3ee58e0746\",\"type\":\"BasicTicker\"}},\"id\":\"6458a29d-efa2-473c-905a-1e75a5fa3d65\",\"type\":\"Grid\"},{\"attributes\":{\"plot\":{\"id\":\"a36941bf-c94e-428a-bf1a-e8975cd410df\",\"subtype\":\"Figure\",\"type\":\"Plot\"}},\"id\":\"a6297935-0424-41ef-9196-fa33020e39d5\",\"type\":\"ResetTool\"},{\"attributes\":{\"fill_alpha\":{\"value\":0.4},\"fill_color\":{\"value\":null},\"line_alpha\":{\"value\":0.4},\"line_width\":{\"value\":2},\"xs\":{\"field\":\"xs\"},\"ys\":{\"field\":\"ys\"}},\"id\":\"a51ddce3-bd84-4cf8-8d7a-63b7d95ce956\",\"type\":\"Patches\"},{\"attributes\":{},\"id\":\"cf576fe0-e6d1-4e49-a549-2c4d428d6185\",\"type\":\"BasicTickFormatter\"},{\"attributes\":{\"overlay\":{\"id\":\"e29f1e2c-b583-48c7-accb-d04be6bcfcdf\",\"type\":\"BoxAnnotation\"},\"plot\":{\"id\":\"a36941bf-c94e-428a-bf1a-e8975cd410df\",\"subtype\":\"Figure\",\"type\":\"Plot\"}},\"id\":\"f033927a-2899-4720-aad5-64866992d77c\",\"type\":\"BoxZoomTool\"},{\"attributes\":{},\"id\":\"d08a4d56-d939-4fd0-abaa-dfcdd1a7e148\",\"type\":\"ToolEvents\"},{\"attributes\":{\"callback\":null,\"column_names\":[\"y\",\"x\"],\"data\":{\"x\":[52.59349967902047,56.55349437131373,21.054309136445102,25.344976643633206],\"y\":[8.035191327512207,28.460506132137418,27.86514855785613,6.919983446491018]}},\"id\":\"470d8c6b-4302-46eb-8567-4b8474392f0b\",\"type\":\"ColumnDataSource\"},{\"attributes\":{\"dimension\":1,\"plot\":{\"id\":\"a36941bf-c94e-428a-bf1a-e8975cd410df\",\"subtype\":\"Figure\",\"type\":\"Plot\"},\"ticker\":{\"id\":\"441b21e0-a88c-4202-abcd-ca758791def2\",\"type\":\"BasicTicker\"}},\"id\":\"bab633b4-3a26-49fd-bb79-bc1a7ca48387\",\"type\":\"Grid\"},{\"attributes\":{\"color_mapper\":{\"id\":\"c920fd2a-d8ef-46a2-b3eb-4b978076881c\",\"type\":\"LinearColorMapper\"},\"dh\":{\"units\":\"data\",\"value\":40},\"dw\":{\"units\":\"data\",\"value\":60},\"image\":{\"field\":\"image\"},\"x\":{\"value\":0},\"y\":{\"value\":40}},\"id\":\"70117b28-1b81-44f0-a02e-2deb27c2fd70\",\"type\":\"Image\"},{\"attributes\":{\"callback\":null,\"column_names\":[\"image\"],\"data\":{\"image\":[[[11936.49609375,13187.0078125,12492.3349609375,13161.9404296875,14463.6865234375,15600.142578125,16344.8564453125,16411.4453125,17244.47265625,17150.05078125,15475.6611328125,14635.3486328125,14401.560546875,15077.248046875,16050.6396484375,16498.255859375,17352.888671875,16944.962890625,15854.150390625,14765.0478515625,14533.3525390625,14216.669921875,14158.92578125,14175.115234375,14097.0615234375,13938.7587890625,13838.5810546875,13772.11328125,14181.3623046875,15227.4541015625,15075.4638671875,15229.3427734375,15753.7998046875,16455.677734375,16728.265625,16510.6640625,16082.9716796875,14965.2705078125,14398.5185546875,14205.33203125,13397.4853515625,13095.884765625,12941.3369140625,13316.80078125,13617.892578125,13385.7548828125,12656.1650390625,12182.11328125,12255.470703125,12278.4716796875,13006.9345703125,13487.193359375,13451.4892578125,13421.1689453125,16259.9033203125,19443.767578125,18770.306640625,17054.236328125,14512.7724609375,10439.046875],[12529.654296875,16334.09375,15783.611328125,15808.1474609375,16368.0048828125,18044.923828125,22745.548828125,23619.068359375,19972.451171875,19058.357421875,19040.396484375,19308.328125,20109.1328125,20070.7265625,20348.869140625,20309.84765625,20763.2109375,20616.509765625,19783.23828125,18211.71875,17512.974609375,17127.275390625,17334.265625,18354.29296875,18238.677734375,17843.1484375,17840.498046875,17975.810546875,18470.6328125,17889.126953125,17024.125,17290.078125,17864.357421875,19140.54296875,20309.671875,19878.970703125,20618.8515625,20932.3515625,19084.861328125,18725.6640625,18693.673828125,18868.794921875,18719.275390625,18423.943359375,17647.82421875,17561.408203125,16318.5205078125,16321.6982421875,16159.4794921875,17158.283203125,18315.873046875,18654.24609375,17656.5859375,16243.6513671875,15187.2548828125,15569.40625,16678.486328125,18859.748046875,18634.50390625,14484.453125],[13061.8046875,17734.9921875,18335.1015625,18426.59765625,17615.583984375,17494.677734375,19340.93359375,19662.30078125,19001.080078125,19676.21875,19621.8828125,21266.36328125,20714.017578125,20064.59765625,19435.634765625,18821.13671875,18648.291015625,18984.68359375,20221.904296875,20862.029296875,19790.513671875,18787.80078125,18631.27734375,19135.9375,19971.689453125,19272.810546875,19627.30078125,20034.65625,20051.185546875,19902.107421875,18672.990234375,18274.60546875,17472.962890625,18272.556640625,18955.912109375,19526.01171875,18994.41796875,19299.384765625,19043.859375,18814.310546875,17606.2421875,16729.919921875,17448.134765625,19176.53125,20264.62890625,19526.595703125,18487.24609375,18055.076171875,18124.333984375,17654.181640625,18421.5625,19250.46875,19431.263671875,19067.33984375,18895.1796875,17836.9921875,17886.505859375,17745.4921875,16392.3671875,13351.69921875],[14704.681640625,18928.48046875,19686.72265625,20262.814453125,18534.521484375,16478.33984375,15010.357421875,15807.62109375,16975.30859375,18854.376953125,19501.203125,19096.330078125,18645.1640625,18716.072265625,18318.548828125,18804.197265625,19906.123046875,22107.859375,23095.046875,23665.078125,22334.79296875,20089.791015625,18943.326171875,18911.974609375,19566.294921875,20161.689453125,21211.849609375,21947.2890625,21053.177734375,20003.380859375,19456.08984375,18811.498046875,18235.142578125,17939.640625,17798.251953125,17142.3984375,16641.787109375,17358.33203125,17506.00390625,16618.095703125,16051.4765625,16580.537109375,16540.765625,16901.517578125,18626.197265625,19336.056640625,19407.578125,19369.2734375,19281.966796875,18590.53515625,18158.82421875,18332.87890625,18220.94140625,17968.107421875,17521.888671875,16930.740234375,16427.04296875,16538.318359375,17763.833984375,15396.3759765625],[13806.13671875,17160.517578125,17360.6875,17902.17578125,17696.7578125,16150.71484375,14713.787109375,15312.666015625,17492.939453125,19653.755859375,20703.091796875,20130.15625,20049.435546875,19454.94140625,20609.984375,21583.8203125,23608.064453125,23960.052734375,23826.8125,22774.25390625,22398.376953125,21920.95703125,20632.34765625,19781.94921875,18669.580078125,19414.484375,19601.30859375,19003.322265625,19300.18359375,19070.990234375,18778.6640625,18913.380859375,18397.384765625,16753.44921875,17102.244140625,17582.451171875,17681.388671875,18773.970703125,18812.34375,18289.00390625,18226.294921875,18386.310546875,17893.2890625,17160.171875,17102.580078125,17464.751953125,18876.486328125,18746.158203125,18734.337890625,18999.611328125,19525.95703125,20257.6875,19450.447265625,18662.408203125,18131.09765625,17151.779296875,16427.234375,15372.892578125,17270.544921875,15206.900390625],[13023.8486328125,17697.123046875,17312.466796875,17384.015625,17677.658203125,16058.0595703125,16480.771484375,17764.0625,20138.01171875,20578.146484375,20786.822265625,20540.24609375,19703.41796875,20055.974609375,21890.255859375,22194.634765625,21747.09375,20512.998046875,19237.869140625,18931.970703125,18972.302734375,19955.009765625,21330.326171875,22766.869140625,22168.236328125,20000.951171875,18361.984375,17443.869140625,18305.7109375,18710.0703125,17895.724609375,17646.236328125,17267.375,17896.0859375,19382.412109375,21270.6953125,21469.72265625,21011.767578125,20245.271484375,19773.490234375,19858.49609375,19734.30078125,20428.74609375,19658.91015625,18208.6171875,17410.013671875,18765.638671875,20203.0546875,20171.369140625,19067.91015625,19696.326171875,20036.15625,19733.95703125,19890.142578125,20130.111328125,19926.02734375,19137.61328125,17313.900390625,16343.119140625,13981.3359375],[14460.5205078125,21211.208984375,20833.361328125,18900.30078125,18350.01171875,16726.58984375,15079.9296875,14987.212890625,15811.568359375,16114.615234375,16197.44140625,15951.806640625,17655.14453125,20916.453125,22293.06640625,20856.984375,19231.1796875,19099.662109375,18537.150390625,18625.2890625,18263.7109375,18959.025390625,19638.900390625,21247.224609375,23428.541015625,22710.041015625,20651.24609375,19607.501953125,18786.90234375,18012.978515625,18351.578125,19165.037109375,19093.208984375,19719.439453125,20530.970703125,21270.9375,19774.798828125,18634.990234375,17788.466796875,17651.140625,18135.697265625,18853.8203125,19935.765625,20913.51171875,21515.525390625,18954.150390625,19026.76953125,21268.404296875,22899.572265625,22585.8046875,22838.96484375,22635.93359375,22561.302734375,22604.8828125,21130.1328125,19233.955078125,17384.779296875,16637.576171875,15790.2158203125,13150.814453125],[12901.56640625,19900.564453125,20827.912109375,19298.208984375,18943.943359375,18272.3671875,16446.025390625,15255.546875,15167.5146484375,14876.783203125,15166.8427734375,16523.48046875,19064.87890625,21664.66015625,20997.2109375,20549.44921875,19102.392578125,18881.30859375,19131.720703125,18562.552734375,18533.783203125,18835.572265625,19112.658203125,21024.41796875,23505.1875,24361.560546875,23011.42578125,21218.005859375,19643.67578125,19617.5234375,20158.59375,21539.763671875,21650.55859375,21776.123046875,21164.927734375,19471.21875,17848.16796875,18283.013671875,18527.2578125,18916.998046875,18879.625,19245.830078125,20398.5546875,22038.5078125,23316.12109375,20767.75,18235.36328125,20109.955078125,23832.880859375,25350.23828125,25950.037109375,25318.541015625,24870.515625,24393.509765625,23813.294921875,23173.296875,21965.052734375,20690.865234375,17679.0859375,13790.09375],[11773.2568359375,15802.3056640625,16760.138671875,16786.6953125,17406.841796875,17778.279296875,17400.912109375,17704.505859375,16502.578125,15226.90625,15689.611328125,17804.29296875,20694.873046875,23154.814453125,22782.08984375,20493.876953125,18898.181640625,19197.208984375,19467.857421875,18707.66015625,18638.966796875,18748.408203125,20180.22265625,23061.015625,24516.4765625,24606.390625,23119.65234375,21269.61328125,20424.048828125,20540.611328125,20359.16015625,19942.291015625,20798.263671875,22096.45703125,22688.28125,21476.126953125,19251.083984375,18265.80078125,18595.72265625,19043.138671875,19774.92578125,20580.822265625,22234.625,24458.65234375,24379.681640625,21549.189453125,18883.83203125,21223.662109375,23670.009765625,24233.92578125,23261.03125,23108.146484375,23164.525390625,23301.49609375,23338.451171875,22195.6640625,21479.9453125,21600.21875,20910.498046875,16412.4375],[10601.7470703125,13756.982421875,14888.4404296875,15882.349609375,17282.978515625,18772.369140625,19352.869140625,19167.90234375,17900.1875,16884.076171875,17109.009765625,18381.908203125,20152.69921875,22606.53515625,23940.76953125,22649.11328125,22251.109375,22192.322265625,20853.640625,20211.77734375,20405.013671875,21014.08203125,22694.544921875,23951.482421875,22363.763671875,20816.2109375,20028.275390625,20227.22265625,21089.53515625,21220.595703125,20204.9375,19877.580078125,20686.462890625,21445.48828125,22083.4765625,21473.21875,20517.4765625,19441.6015625,19419.056640625,18694.255859375,19994.98828125,21534.177734375,24071.2578125,24645.275390625,21789.17578125,18899.837890625,17769.3359375,20243.130859375,22552.4375,22862.369140625,22703.615234375,22743.205078125,23490.552734375,23697.578125,24292.111328125,23211.439453125,22085.3125,21365.4140625,20163.015625,16704.1640625],[9809.0263671875,12387.5322265625,13155.8935546875,15021.1748046875,17779.732421875,19093.265625,19257.458984375,18797.892578125,18138.87890625,18651.943359375,18906.07421875,19682.234375,18619.859375,18797.43359375,20688.306640625,23064.19921875,24837.560546875,23997.685546875,23464.970703125,22453.59765625,22294.822265625,21902.12109375,21281.349609375,19265.822265625,18328.384765625,18717.828125,20786.482421875,21603.140625,22253.341796875,21867.185546875,21320.796875,20379.5390625,19777.701171875,18893.33984375,19323.46875,20137.416015625,19851.986328125,19548.248046875,19474.31640625,19708.642578125,20112.564453125,20698.541015625,21556.740234375,20335.29296875,18761.8203125,18144.396484375,17776.369140625,18532.916015625,21270.873046875,23445.787109375,23669.11328125,23715.59765625,24413.15625,25100.623046875,24352.533203125,23758.755859375,23135.43359375,22393.779296875,21149.72265625,16245.2353515625],[9661.357421875,12660.3017578125,13946.4755859375,14786.5595703125,17367.404296875,19159.013671875,18610.486328125,17971.908203125,18434.212890625,18394.244140625,18453.638671875,18332.927734375,17684.568359375,18252.8125,20473.62109375,23863.689453125,24220.962890625,20638.568359375,19192.931640625,19281.07421875,18602.173828125,18345.943359375,18138.958984375,17806.84765625,18897.9453125,20579.376953125,23600.27734375,25247.15625,25495.1953125,24335.51953125,22166.353515625,19923.052734375,17982.1796875,17215.30078125,17882.41015625,18259.87109375,17923.439453125,17743.193359375,17529.16796875,18092.82421875,17583.052734375,17481.78515625,17140.720703125,17320.033203125,18125.970703125,19073.076171875,19927.197265625,19021.99609375,18347.75,20561.31640625,23688.482421875,26252.03125,26581.359375,25888.076171875,25403.650390625,24609.46875,23879.39453125,23120.849609375,20482.70703125,14720.2275390625],[9771.48828125,13074.6162109375,13810.896484375,14553.6826171875,15467.6884765625,16676.52734375,17636.70703125,18519.9765625,19277.736328125,18593.3359375,19552.125,19106.70703125,18817.84765625,19029.00390625,19122.392578125,20363.3046875,20498.955078125,19126.271484375,18040.359375,17935.541015625,18629.083984375,18542.998046875,18300.35546875,17541.99609375,18232.9375,18978.373046875,22765.12109375,28985.099609375,34941.96875,32660.109375,25137.212890625,20728.720703125,19251.775390625,18858.15234375,18073.064453125,19063.708984375,19364.12890625,17845.470703125,16304.51171875,16819.16796875,16775.3046875,16314.39453125,16173.2177734375,17206.83984375,18886.607421875,20052.765625,19540.751953125,18523.646484375,17592.58203125,17780.083984375,18862.658203125,21192.763671875,23582.21484375,25688.9921875,25769.416015625,23845.107421875,23056.982421875,21662.03125,18941.490234375,13783.552734375],[10123.9951171875,13634.2353515625,14275.248046875,14968.8701171875,16137.3310546875,16943.359375,17814.421875,18563.33203125,19994.341796875,20294.8515625,20665.609375,19838.400390625,20009.240234375,19154.21484375,17949.4375,18434.48046875,18439.765625,17644.37890625,16889.275390625,16972.580078125,17444.56640625,17973.484375,18252.265625,16996.919921875,17192.865234375,18829.369140625,24496.9765625,37814.1015625,48895.7890625,48252.49609375,35580.34375,23054.958984375,19622.88671875,19364.46484375,18733.71484375,18595.755859375,19421.900390625,21562.384765625,26482.69921875,31984.642578125,34186.9140625,34379.63671875,31672.40234375,28367.400390625,22872.09375,19173.44921875,18635.880859375,18492.73828125,18802.1328125,18324.412109375,18499.6875,17719.83984375,18249.1171875,19278.376953125,20201.224609375,21115.466796875,20658.8984375,19834.271484375,18329.125,14512.544921875],[11111.072265625,14471.09765625,14976.328125,16112.7958984375,17360.287109375,17994.697265625,17591.64453125,18543.85546875,19972.203125,20220.580078125,20580.1953125,20891.65234375,20588.892578125,19748.453125,18773.400390625,18402.568359375,18009.849609375,16828.63671875,17420.193359375,17826.349609375,18599.7265625,19433.375,18872.578125,18032.166015625,18349.083984375,20515.265625,25368.822265625,32961.09765625,38880.78515625,35901.10546875,27952.228515625,22599.85546875,20885.796875,22110.626953125,22335.150390625,24625.681640625,32052.259765625,42317.6484375,49367.80078125,53810.29296875,56709.10546875,57987.89453125,58382.80859375,57039.74609375,48535.14453125,33523.109375,22431.875,19744.443359375,18474.294921875,18922.203125,19050.76171875,19109.552734375,19477.0234375,19705.671875,19546.125,19009.150390625,19469.892578125,18255.28125,16618.1875,13432.6513671875],[11217.9755859375,14815.4853515625,14486.44140625,15005.3505859375,16218.5986328125,17353.962890625,17776.515625,18016.7109375,18095.1015625,17966.65234375,18016.435546875,18940.005859375,19136.974609375,18409.0,18737.953125,19689.458984375,20305.568359375,19479.51953125,20083.380859375,20893.498046875,20093.017578125,19400.787109375,19680.265625,19732.029296875,20527.4140625,22516.837890625,23285.333984375,24705.08984375,26327.193359375,24042.2578125,20888.734375,20382.365234375,20787.18359375,21007.94140625,23666.05078125,34434.0078125,47771.26953125,53980.4765625,54873.87109375,54054.2734375,53553.16796875,54357.52734375,56767.765625,59286.1640625,59021.87890625,50411.984375,31162.478515625,19915.314453125,18602.708984375,18055.375,17720.873046875,18474.1484375,19447.802734375,22248.9921875,24609.40625,22425.189453125,19435.212890625,18133.37890625,16764.271484375,14333.3837890625],[11206.6533203125,15265.248046875,15503.34765625,16378.375,17231.6484375,19104.294921875,19154.52734375,18753.19921875,18055.267578125,17367.0,18070.92578125,19241.048828125,19518.24609375,19147.025390625,18694.34375,18894.89453125,20254.439453125,20618.123046875,20523.107421875,20526.31640625,19255.875,18802.330078125,19623.283203125,20060.158203125,20608.048828125,21039.77734375,21522.025390625,24309.70703125,25799.11328125,25267.58203125,23147.646484375,20743.310546875,19570.0,19206.53125,24935.9453125,39453.30078125,50291.38671875,52633.9296875,52985.484375,51219.12109375,51150.7734375,51062.60546875,51665.71875,53919.79296875,56544.33984375,52876.48046875,36641.23046875,20784.763671875,17452.2578125,17508.25390625,17852.810546875,18723.658203125,19731.11328125,21705.74609375,23153.755859375,21974.263671875,20082.03515625,20618.45703125,19158.740234375,15288.92578125],[12444.9697265625,17286.05078125,18612.59765625,19460.517578125,18712.181640625,18892.30859375,18485.69921875,18211.240234375,18781.953125,20217.056640625,19867.642578125,18753.85546875,18573.212890625,17418.8984375,16862.314453125,17074.63671875,18334.384765625,19306.44140625,20003.568359375,20881.84765625,20532.609375,20798.4296875,21725.43359375,21051.748046875,20099.69921875,20071.623046875,21814.671875,22304.21875,20806.400390625,19631.87890625,19557.15625,18367.25,17935.880859375,18260.318359375,24559.681640625,38760.59765625,49069.21484375,49329.3515625,49157.45703125,48635.44140625,48646.7890625,49533.546875,49769.88671875,49422.484375,51761.39453125,51567.2421875,37088.41015625,21758.14453125,18149.037109375,19111.8359375,20240.697265625,20897.822265625,21822.134765625,22498.09765625,22534.28515625,21630.849609375,21531.78125,22463.92578125,21212.12890625,16938.328125],[15196.451171875,19232.791015625,19469.259765625,19441.359375,19710.90625,18936.111328125,18653.78125,19372.142578125,21504.900390625,24096.1875,22244.625,18366.84765625,15236.6435546875,14320.875,14549.53125,15573.4638671875,16187.568359375,16877.958984375,18563.400390625,19312.384765625,20277.966796875,20842.189453125,21363.888671875,21319.943359375,20152.005859375,19946.150390625,22168.28125,23993.009765625,22480.916015625,18984.81640625,17046.3359375,16270.3603515625,16684.427734375,17003.154296875,23379.677734375,37927.26171875,49020.7890625,50362.1875,48745.94921875,47714.87890625,48029.95703125,48318.26953125,49630.0625,51117.03515625,52779.1484375,48072.0,32210.384765625,19795.78515625,18529.29296875,21228.958984375,23415.4140625,23606.310546875,24029.197265625,24232.6640625,22565.619140625,22776.197265625,22656.8046875,21974.39453125,21360.953125,18409.55859375],[18754.69921875,23062.900390625,19925.806640625,19308.44921875,20586.00390625,20112.24609375,19112.67578125,18163.244140625,17731.033203125,17950.12109375,16518.978515625,15015.0283203125,13688.0556640625,13448.0625,13105.9609375,14246.673828125,15865.9755859375,16518.50390625,17691.134765625,18372.986328125,18793.681640625,18377.185546875,17114.046875,16920.8046875,17692.591796875,19184.978515625,21161.212890625,21173.068359375,21017.765625,18851.2421875,17206.556640625,16352.0390625,17351.337890625,18172.4453125,20398.751953125,26175.927734375,36000.87109375,44414.9296875,48813.05078125,48446.296875,45162.77734375,36879.2734375,29685.158203125,28743.779296875,31425.466796875,29497.921875,23007.296875,18539.517578125,17947.1484375,20820.453125,26704.544921875,29468.9296875,26903.51953125,25085.021484375,23343.57421875,22516.58203125,21845.4609375,20978.20703125,21252.662109375,18250.22265625],[15344.578125,20326.77734375,21001.658203125,21361.564453125,20942.3125,21186.443359375,19961.759765625,18034.609375,16441.068359375,16038.330078125,15364.5322265625,14271.087890625,13510.37890625,13288.3330078125,13951.56640625,14898.1064453125,16538.787109375,18306.49609375,20070.439453125,21226.890625,21034.322265625,19085.734375,17716.234375,17463.751953125,19139.15234375,20975.9140625,20540.47265625,19079.12109375,18744.861328125,18846.185546875,18562.3671875,17747.509765625,17071.388671875,17423.521484375,18557.4296875,18121.56640625,17621.20703125,19839.697265625,23740.861328125,25720.794921875,22721.22265625,16974.185546875,12805.6875,11670.947265625,13033.8544921875,16188.033203125,19654.12109375,20821.97265625,19772.7734375,20709.875,25511.84375,29169.76171875,27988.44921875,25724.185546875,24945.46484375,22673.083984375,21196.99609375,19966.75390625,19738.583984375,17031.857421875],[17407.94921875,23639.7265625,23317.9453125,21726.703125,20403.671875,20874.89453125,21267.98046875,20466.76953125,18971.953125,18212.333984375,18341.70703125,18092.591796875,15765.521484375,14741.6943359375,15345.9912109375,16466.015625,17697.46875,19190.609375,20723.208984375,21347.29296875,21982.64453125,20767.095703125,20007.60546875,20685.154296875,22045.8125,22450.359375,20840.01953125,20119.029296875,19864.736328125,18807.240234375,17502.9765625,17191.248046875,16965.0,17362.97265625,17308.330078125,17198.14453125,17692.90234375,17763.47265625,17003.2421875,16403.662109375,14745.2099609375,12695.8603515625,11990.3251953125,12308.115234375,13759.2607421875,14999.640625,18017.990234375,20744.314453125,20751.12890625,21046.19921875,22561.95703125,23401.4921875,23308.21484375,23888.939453125,24877.5390625,22876.7421875,21127.828125,20314.748046875,19528.6171875,15602.087890625],[17087.28515625,22129.126953125,22657.169921875,22270.978515625,21826.93359375,22457.52734375,22430.681640625,21830.9765625,21489.83984375,20910.484375,20688.626953125,21327.947265625,20429.896484375,18424.763671875,18226.93359375,18467.265625,18495.103515625,18592.388671875,19594.029296875,21213.994140625,23657.841796875,25279.18359375,23508.775390625,23441.3203125,23726.166015625,22201.03125,20125.853515625,20025.3125,20785.28125,22222.5078125,23865.60546875,23001.02734375,22588.318359375,23302.478515625,21408.56640625,20193.078125,19692.67578125,18982.279296875,18412.748046875,17013.173828125,15229.130859375,13838.361328125,13444.384765625,13722.40625,14420.001953125,16305.056640625,19552.673828125,22019.8671875,22332.259765625,22325.22265625,22525.962890625,22694.98828125,23595.275390625,23607.31640625,23224.376953125,22410.064453125,21383.447265625,20742.861328125,19344.46875,15532.78515625],[17905.833984375,24264.9921875,25401.111328125,24326.857421875,23136.259765625,23962.4375,25280.111328125,24686.533203125,23361.611328125,20976.68359375,19880.064453125,22758.15625,25162.578125,23764.205078125,20875.021484375,18986.48828125,18145.837890625,18277.201171875,18465.5703125,21169.078125,29378.533203125,32928.48828125,28914.591796875,24151.943359375,21474.732421875,20145.498046875,19270.962890625,19514.0234375,21087.96875,21556.61328125,22340.96875,22466.708984375,21834.20703125,20503.396484375,19463.3828125,17250.06640625,16286.9375,17189.40234375,17050.046875,15941.927734375,15378.1005859375,14326.6875,14315.0185546875,15180.1318359375,16724.240234375,18970.126953125,21294.78125,22612.7109375,22391.38671875,21672.724609375,20891.4765625,21589.0078125,21673.880859375,21526.521484375,21727.484375,20601.263671875,19496.154296875,19557.154296875,18898.46484375,16076.7275390625],[16941.43359375,21455.65234375,21129.7734375,22096.765625,21923.701171875,22734.80078125,24497.15625,25240.08203125,23532.908203125,20404.12109375,18370.537109375,18801.34765625,20611.38671875,22687.76953125,22902.125,21312.34765625,20992.3046875,20506.1171875,19185.880859375,19344.84375,20816.109375,23032.12890625,22918.900390625,21146.611328125,19188.76953125,18538.2734375,19271.787109375,19676.734375,18845.0703125,19115.791015625,18830.525390625,18942.7578125,19090.642578125,18025.47265625,17161.13671875,15797.8203125,15677.4228515625,16027.375,16210.92578125,15648.966796875,15395.296875,14545.5205078125,15426.4609375,16147.94140625,18170.396484375,19069.494140625,19667.78515625,20746.47265625,21645.9296875,21255.583984375,19862.02734375,20789.857421875,20480.298828125,20529.68359375,19889.66796875,18930.69140625,18776.0078125,18420.142578125,17551.173828125,14349.2900390625],[16680.873046875,21335.21875,20881.60546875,20818.23828125,21395.1171875,22394.333984375,24634.560546875,26683.705078125,23838.185546875,20065.064453125,18708.0,18860.927734375,19856.87890625,20691.794921875,21073.35546875,21977.353515625,21554.169921875,20712.748046875,19934.6484375,19231.818359375,19773.705078125,20278.263671875,19805.130859375,19393.537109375,18017.4296875,18048.33203125,18975.20703125,19116.3515625,18540.279296875,18500.123046875,18774.92578125,18476.220703125,18571.021484375,18169.22265625,16965.638671875,16517.1796875,15926.755859375,14921.4921875,15047.7529296875,15505.30859375,15766.1865234375,15588.9912109375,16980.41015625,17430.341796875,18136.58984375,18675.58984375,18839.0,19326.826171875,20116.6953125,21240.447265625,20763.8515625,20230.671875,20701.873046875,20884.1171875,20366.056640625,20182.259765625,19518.828125,18328.830078125,16688.162109375,13432.115234375],[16218.193359375,21717.771484375,23257.18359375,22636.205078125,22513.435546875,22925.375,24170.982421875,24008.1796875,21298.4921875,19240.470703125,18598.203125,18360.783203125,18784.431640625,19520.931640625,20438.84765625,21225.404296875,21020.673828125,20442.21875,19569.55859375,18923.373046875,18480.37109375,19194.22265625,19671.638671875,20231.265625,20837.6171875,19686.36328125,18859.48828125,18789.77734375,19479.705078125,18943.9296875,19106.041015625,18970.150390625,19704.5703125,19679.845703125,19543.11328125,19595.3046875,19473.44921875,18724.587890625,16343.52734375,14778.255859375,16852.482421875,19386.40234375,19684.466796875,18816.111328125,18216.486328125,18931.724609375,19616.93359375,20757.87890625,22871.974609375,24657.79296875,25735.4296875,24642.677734375,23314.376953125,24360.453125,23816.404296875,23504.517578125,22552.236328125,20081.693359375,17249.650390625,13430.2470703125],[13754.0087890625,18702.96875,19810.970703125,22038.63671875,22382.599609375,22845.341796875,20932.857421875,19079.03125,17655.919921875,16852.78515625,17954.19921875,18863.77734375,18973.951171875,18651.466796875,18676.4921875,18631.03515625,18953.83203125,19303.408203125,20608.38671875,22364.376953125,23924.677734375,25761.056640625,26391.12109375,25303.759765625,24790.322265625,24802.76171875,22678.775390625,21025.33203125,20989.9921875,20598.302734375,20042.85546875,19251.154296875,18705.296875,19230.1796875,18650.52734375,18739.669921875,19292.7890625,18910.60546875,16512.904296875,16179.8115234375,19301.091796875,22250.384765625,22070.666015625,21019.822265625,20361.783203125,19740.6328125,20144.234375,22134.708984375,26314.9765625,34475.8828125,43061.1328125,42397.5546875,33664.62890625,26864.1953125,23337.88671875,21096.552734375,19616.330078125,18849.232421875,17149.43359375,13344.646484375],[13110.1865234375,18182.453125,18286.3359375,17850.203125,18175.232421875,18030.19921875,17559.607421875,18059.623046875,18270.900390625,19199.279296875,20307.845703125,19807.126953125,18633.033203125,17855.0859375,17743.427734375,18120.693359375,19141.68359375,20356.521484375,23999.51953125,28242.12109375,30522.1484375,30870.86328125,29844.646484375,27566.71875,25089.97265625,25553.326171875,26109.984375,23589.255859375,20982.11328125,19999.927734375,19714.349609375,19399.224609375,20358.736328125,21419.71875,21390.95703125,20905.091796875,20204.498046875,18696.220703125,17472.91015625,17002.341796875,17529.21484375,17729.736328125,18075.8828125,19187.123046875,19157.048828125,18901.998046875,19855.15625,20622.83984375,22201.208984375,27764.6484375,34661.4140625,35446.21875,28402.88671875,21608.548828125,20292.15625,18987.255859375,18236.728515625,18318.158203125,17733.37109375,14430.3759765625],[15761.216796875,21418.197265625,20770.236328125,18379.2421875,18245.0859375,16743.388671875,17856.73828125,19485.1640625,19618.552734375,20405.439453125,20397.7578125,19560.7734375,18916.181640625,19980.08984375,20178.892578125,20089.5390625,20102.9140625,20692.78125,23697.78125,27918.044921875,30192.443359375,29535.53515625,27912.974609375,25380.8359375,23321.662109375,24565.6953125,25771.609375,25046.314453125,23458.998046875,21917.5546875,20308.595703125,18862.48046875,19353.498046875,20066.65625,20912.869140625,21080.3515625,19006.734375,19157.255859375,20772.162109375,20739.4765625,20016.947265625,18926.6171875,17899.8984375,18083.548828125,18256.380859375,18424.076171875,18747.15234375,18913.396484375,19099.935546875,18928.125,18095.7109375,17400.4921875,17316.77734375,17479.58203125,18348.974609375,19204.83984375,19277.30859375,19099.5859375,17646.498046875,14244.9873046875],[14973.89453125,20538.349609375,20466.4921875,19204.982421875,18089.869140625,18333.169921875,19418.224609375,19187.134765625,19252.50390625,19449.8125,19750.205078125,19128.8046875,18818.59765625,19581.142578125,20199.22265625,22074.51171875,22210.783203125,21856.181640625,23073.94921875,27995.1796875,30099.9140625,29973.083984375,27359.837890625,24919.29296875,23701.046875,24331.93359375,25708.998046875,25342.935546875,23279.97265625,22428.490234375,20362.50390625,18927.443359375,19375.720703125,20523.23828125,22209.02734375,21484.490234375,18952.9296875,18451.494140625,19895.03125,20209.595703125,21604.193359375,22734.240234375,21980.703125,19907.845703125,20161.375,19243.09375,19349.134765625,19089.88671875,17776.787109375,16208.76953125,16153.279296875,16337.4208984375,16148.13671875,17135.46484375,16857.3828125,18019.77734375,18931.74609375,19275.50390625,18341.79296875,15267.853515625],[13830.7451171875,19040.5859375,19561.376953125,19698.91015625,19005.04296875,18680.595703125,18527.626953125,18660.392578125,18982.103515625,18776.15625,19246.263671875,18533.16015625,19058.890625,18259.822265625,18990.11328125,19626.1953125,18744.689453125,18490.23828125,20797.60546875,26572.01953125,31901.826171875,31867.26171875,28626.140625,26899.4375,25896.970703125,26069.619140625,26689.572265625,25236.060546875,22780.626953125,22437.0703125,21075.125,19125.509765625,19052.025390625,20226.291015625,21153.349609375,21311.18359375,19969.91015625,19380.912109375,17819.552734375,18572.568359375,18775.443359375,18798.37109375,19614.435546875,18901.103515625,18617.69140625,19302.880859375,19335.404296875,18889.529296875,17820.06640625,16157.681640625,15796.572265625,15349.0283203125,15083.3173828125,15318.54296875,15692.685546875,15990.6279296875,16893.685546875,16865.732421875,17137.42578125,15171.1162109375],[14224.431640625,19110.771484375,19464.978515625,19721.72265625,20068.03125,20233.716796875,19233.7734375,18825.78125,19213.666015625,19742.43359375,20146.193359375,19808.74609375,19499.609375,18903.7421875,18904.181640625,18694.544921875,18529.484375,18687.931640625,20472.876953125,25073.146484375,31318.484375,34154.859375,33736.34765625,33819.8359375,34306.12890625,32482.123046875,28403.14453125,23471.93359375,20182.783203125,18624.92578125,18080.078125,17581.35546875,18820.9375,18785.427734375,19387.814453125,20804.568359375,21353.00390625,20971.55078125,20271.9140625,19967.203125,18732.8984375,17970.029296875,19033.59375,19763.087890625,21025.30078125,19115.619140625,17489.6171875,17051.478515625,16666.51171875,16457.908203125,16164.41796875,15663.3701171875,14958.8193359375,15214.8564453125,15270.236328125,15666.548828125,15389.890625,15175.8818359375,15418.2353515625,14435.4482421875],[14305.7900390625,17850.515625,17626.90234375,18024.908203125,19734.69921875,19554.74609375,18185.453125,18697.6015625,18719.1328125,18753.671875,19656.087890625,20296.203125,20319.90234375,20301.390625,20559.626953125,20999.330078125,20723.8046875,21073.955078125,21427.716796875,21391.47265625,21780.826171875,26266.544921875,32432.783203125,33521.23828125,30624.2734375,26704.7734375,23642.21484375,21450.541015625,20541.59375,19269.384765625,20183.232421875,21947.3828125,22948.935546875,23540.8125,24869.544921875,25609.451171875,26807.607421875,27062.58984375,24865.70703125,23307.205078125,22380.244140625,23206.96875,23876.13671875,23565.685546875,22066.306640625,20028.1171875,18554.369140625,16706.27734375,16335.580078125,16206.158203125,16126.037109375,16055.2685546875,16322.2421875,16380.1611328125,15943.5615234375,15983.111328125,15580.3115234375,15366.658203125,14855.23828125,12955.677734375],[14532.5546875,17863.80078125,17463.462890625,18052.87109375,18127.05859375,17205.06640625,17049.29296875,17554.09375,18425.681640625,18914.578125,19431.28125,21145.814453125,21341.580078125,20372.728515625,20475.03125,20149.5703125,19162.22265625,19578.39453125,18773.79296875,18493.384765625,19487.2890625,22617.7109375,26712.0234375,27589.6796875,23503.87890625,20320.873046875,19066.7578125,19227.14453125,19738.8671875,19414.185546875,19969.283203125,21359.931640625,21864.517578125,21061.677734375,21120.546875,21560.35546875,22837.16015625,23396.07421875,23977.33984375,24257.099609375,25332.033203125,25454.486328125,24304.283203125,23255.810546875,21467.3359375,20164.521484375,18982.4921875,16914.24609375,16479.1015625,16846.255859375,17261.8984375,17524.62890625,18159.7890625,18792.865234375,19115.384765625,18212.810546875,16420.658203125,16153.0283203125,15078.6279296875,12223.6220703125],[14759.357421875,19367.2578125,19255.75,19098.36328125,18117.703125,16938.009765625,16298.3291015625,17268.388671875,18519.8203125,19827.6015625,20826.615234375,20808.77734375,20402.150390625,18901.78125,18104.3203125,17807.35546875,17727.505859375,17913.203125,17836.765625,18007.390625,19113.29296875,20048.46484375,23541.69140625,27269.400390625,24837.3828125,20333.580078125,17804.517578125,18018.3984375,18472.904296875,19080.232421875,19971.08984375,20243.580078125,18759.23046875,18100.3046875,17644.994140625,18476.74609375,18935.357421875,19342.537109375,20959.00390625,23390.44921875,26027.20703125,27798.865234375,26852.10546875,23893.439453125,20829.98828125,19145.943359375,18335.05078125,19516.55859375,19294.443359375,18863.59375,19250.703125,19897.013671875,19529.931640625,19339.5390625,18651.146484375,17934.142578125,17897.87890625,17594.7890625,16479.13671875,13153.71875],[15948.630859375,20466.775390625,19815.177734375,18206.458984375,16889.646484375,16746.361328125,16783.8984375,17071.21875,18107.0859375,19209.498046875,18667.208984375,18969.44921875,19025.705078125,19755.712890625,20019.134765625,19748.953125,18962.826171875,18282.33984375,18530.103515625,18949.83203125,19991.873046875,21256.478515625,22446.724609375,23637.994140625,22676.234375,20226.125,20108.474609375,19978.87109375,19803.4609375,20384.24609375,20738.177734375,19905.544921875,18242.79296875,17734.8828125,17233.89453125,17762.3203125,18153.6953125,19260.087890625,20286.59375,23369.828125,25553.017578125,25125.33203125,22906.05078125,20916.25390625,19678.728515625,18342.076171875,17485.15625,17263.54296875,16779.3515625,16355.73828125,16930.05859375,18936.73828125,19343.44921875,18685.1171875,18541.162109375,18621.294921875,19037.177734375,19273.560546875,18675.677734375,15453.6435546875],[15454.849609375,19923.765625,20013.734375,18928.3046875,17103.041015625,16098.2802734375,16597.4375,16749.91015625,18096.849609375,18461.671875,17888.205078125,19504.216796875,19684.775390625,19082.392578125,19367.34765625,19927.16015625,19315.447265625,18626.625,18968.12890625,19649.744140625,20999.736328125,21187.482421875,21295.521484375,20771.779296875,19643.103515625,19161.39453125,19365.82421875,19181.708984375,19709.83203125,22555.7265625,23893.44140625,22095.708984375,19285.146484375,17857.720703125,17431.658203125,17189.515625,17498.5234375,18582.96484375,20948.65234375,23693.201171875,24240.984375,22474.892578125,20719.830078125,20718.119140625,19047.224609375,17583.54296875,17241.583984375,16985.544921875,16854.583984375,17881.11328125,18953.619140625,20009.99609375,20286.685546875,20201.87109375,21369.75,22384.984375,22836.982421875,21782.5703125,20118.845703125,16835.294921875],[14836.447265625,19757.880859375,19901.943359375,18796.76953125,18268.99609375,17462.03515625,16648.275390625,16636.12109375,17054.669921875,16920.275390625,17323.478515625,18949.52734375,19641.75,19551.08984375,18762.94921875,18435.193359375,17827.189453125,18540.39453125,19299.14453125,19179.53125,19249.82421875,18906.048828125,18801.208984375,18703.69140625,19024.72265625,18490.837890625,18445.015625,18141.50390625,18699.294921875,20449.0234375,22130.55078125,22049.822265625,20196.947265625,18825.341796875,17813.40625,17932.587890625,18803.216796875,20515.6328125,21973.33203125,21762.54296875,21080.30859375,19737.005859375,20188.66796875,20586.41796875,19205.44140625,18714.28125,20023.83203125,19958.87890625,19841.48828125,20129.41015625,21230.8828125,21401.873046875,20862.455078125,20730.75,20663.27734375,21022.0546875,21419.853515625,21053.6875,19006.478515625,16428.740234375],[11366.2568359375,15194.216796875,15889.8603515625,15046.1513671875,14521.1826171875,14236.265625,14116.986328125,14004.498046875,13659.90234375,14149.0634765625,14734.1220703125,15418.818359375,15840.41015625,15745.1708984375,15774.8291015625,14754.78515625,14082.935546875,14731.3388671875,14645.4970703125,14307.2578125,14251.716796875,14470.6982421875,14899.72265625,14426.935546875,14743.7548828125,14909.4453125,15402.9697265625,16020.765625,15227.59765625,14930.4404296875,15494.3486328125,16165.427734375,16939.017578125,17000.044921875,16149.5478515625,16425.29296875,16409.525390625,15997.3046875,15605.654296875,14947.693359375,14981.00390625,14856.5537109375,15171.197265625,15512.9130859375,16530.87890625,16962.20703125,16616.29296875,15742.953125,14298.556640625,14480.4541015625,14519.998046875,15686.013671875,16535.619140625,16890.1328125,16832.62890625,16502.8515625,15216.361328125,14812.548828125,14868.3974609375,14032.1181640625]]]}},\"id\":\"10dd03c0-99fe-47c9-b615-316391aed410\",\"type\":\"ColumnDataSource\"},{\"attributes\":{\"palette\":[\"#000080\",\"#000084\",\"#000089\",\"#00008d\",\"#000092\",\"#000096\",\"#00009b\",\"#00009f\",\"#0000a4\",\"#0000a8\",\"#0000ad\",\"#0000b2\",\"#0000b6\",\"#0000bb\",\"#0000bf\",\"#0000c4\",\"#0000c8\",\"#0000cd\",\"#0000d1\",\"#0000d6\",\"#0000da\",\"#0000df\",\"#0000e3\",\"#0000e8\",\"#0000ed\",\"#0000f1\",\"#0000f6\",\"#0000fa\",\"#0000ff\",\"#0000ff\",\"#0000ff\",\"#0000ff\",\"#0000ff\",\"#0004ff\",\"#0008ff\",\"#000cff\",\"#0010ff\",\"#0014ff\",\"#0018ff\",\"#001cff\",\"#0020ff\",\"#0024ff\",\"#0028ff\",\"#002cff\",\"#0030ff\",\"#0034ff\",\"#0038ff\",\"#003cff\",\"#0040ff\",\"#0044ff\",\"#0048ff\",\"#004cff\",\"#0050ff\",\"#0054ff\",\"#0058ff\",\"#005cff\",\"#0060ff\",\"#0064ff\",\"#0068ff\",\"#006cff\",\"#0070ff\",\"#0074ff\",\"#0078ff\",\"#007cff\",\"#0080ff\",\"#0084ff\",\"#0088ff\",\"#008cff\",\"#0090ff\",\"#0094ff\",\"#0098ff\",\"#009cff\",\"#00a0ff\",\"#00a4ff\",\"#00a8ff\",\"#00acff\",\"#00b0ff\",\"#00b4ff\",\"#00b8ff\",\"#00bcff\",\"#00c0ff\",\"#00c4ff\",\"#00c8ff\",\"#00ccff\",\"#00d0ff\",\"#00d4ff\",\"#00d8ff\",\"#00dcfe\",\"#00e0fb\",\"#00e4f8\",\"#02e8f4\",\"#06ecf1\",\"#09f0ee\",\"#0cf4eb\",\"#0ff8e7\",\"#13fce4\",\"#16ffe1\",\"#19ffde\",\"#1cffdb\",\"#1fffd7\",\"#23ffd4\",\"#26ffd1\",\"#29ffce\",\"#2cffca\",\"#30ffc7\",\"#33ffc4\",\"#36ffc1\",\"#39ffbe\",\"#3cffba\",\"#40ffb7\",\"#43ffb4\",\"#46ffb1\",\"#49ffad\",\"#4dffaa\",\"#50ffa7\",\"#53ffa4\",\"#56ffa0\",\"#5aff9d\",\"#5dff9a\",\"#60ff97\",\"#63ff94\",\"#66ff90\",\"#6aff8d\",\"#6dff8a\",\"#70ff87\",\"#73ff83\",\"#77ff80\",\"#7aff7d\",\"#7dff7a\",\"#80ff77\",\"#83ff73\",\"#87ff70\",\"#8aff6d\",\"#8dff6a\",\"#90ff66\",\"#94ff63\",\"#97ff60\",\"#9aff5d\",\"#9dff5a\",\"#a0ff56\",\"#a4ff53\",\"#a7ff50\",\"#aaff4d\",\"#adff49\",\"#b1ff46\",\"#b4ff43\",\"#b7ff40\",\"#baff3c\",\"#beff39\",\"#c1ff36\",\"#c4ff33\",\"#c7ff30\",\"#caff2c\",\"#ceff29\",\"#d1ff26\",\"#d4ff23\",\"#d7ff1f\",\"#dbff1c\",\"#deff19\",\"#e1ff16\",\"#e4ff13\",\"#e7ff0f\",\"#ebff0c\",\"#eeff09\",\"#f1fc06\",\"#f4f802\",\"#f8f500\",\"#fbf100\",\"#feed00\",\"#ffea00\",\"#ffe600\",\"#ffe200\",\"#ffde00\",\"#ffdb00\",\"#ffd700\",\"#ffd300\",\"#ffd000\",\"#ffcc00\",\"#ffc800\",\"#ffc400\",\"#ffc100\",\"#ffbd00\",\"#ffb900\",\"#ffb600\",\"#ffb200\",\"#ffae00\",\"#ffab00\",\"#ffa700\",\"#ffa300\",\"#ff9f00\",\"#ff9c00\",\"#ff9800\",\"#ff9400\",\"#ff9100\",\"#ff8d00\",\"#ff8900\",\"#ff8600\",\"#ff8200\",\"#ff7e00\",\"#ff7a00\",\"#ff7700\",\"#ff7300\",\"#ff6f00\",\"#ff6c00\",\"#ff6800\",\"#ff6400\",\"#ff6000\",\"#ff5d00\",\"#ff5900\",\"#ff5500\",\"#ff5200\",\"#ff4e00\",\"#ff4a00\",\"#ff4700\",\"#ff4300\",\"#ff3f00\",\"#ff3b00\",\"#ff3800\",\"#ff3400\",\"#ff3000\",\"#ff2d00\",\"#ff2900\",\"#ff2500\",\"#ff2200\",\"#ff1e00\",\"#ff1a00\",\"#ff1600\",\"#ff1300\",\"#fa0f00\",\"#f60b00\",\"#f10800\",\"#ed0400\",\"#e80000\",\"#e40000\",\"#df0000\",\"#da0000\",\"#d60000\",\"#d10000\",\"#cd0000\",\"#c80000\",\"#c40000\",\"#bf0000\",\"#bb0000\",\"#b60000\",\"#b20000\",\"#ad0000\",\"#a80000\",\"#a40000\",\"#9f0000\",\"#9b0000\",\"#960000\",\"#920000\",\"#8d0000\",\"#890000\",\"#840000\",\"#800000\"]},\"id\":\"c920fd2a-d8ef-46a2-b3eb-4b978076881c\",\"type\":\"LinearColorMapper\"},{\"attributes\":{\"callback\":null,\"column_names\":[\"xs\",\"ys\"],\"data\":{\"xs\":[[\"NaN\",50.11617059609831,50.00000000000001,49.0,48.0,47.0,45.99999999999999,45.0,44.0,43.0,42.968135921599895,43.0,44.0,45.0,46.0,47.0,48.0,49.0,50.0,50.081040756923215,50.28849787489177,50.3078554390451,50.569201279880374,51.0,52.0,52.100198285892766,53.0,53.203401321028636,53.0,52.71579445336344,52.0,51.0,50.71349134682506,50.217667506902885,50.0,49.0,48.0,47.87183810497893,47.25796314331413,47.924012659717135,48.0,49.0,49.73526672067135,50.00000000000001,50.03863129867286,51.0,52.0,53.00000000000001,53.99999999999999,54.0818108521337,55.0,55.614871310744746,56.0,56.09081635178729,56.34493083238198,57.00000000000001,57.720395155412064,58.0,58.416295012784865,59.00000000000001,60.0,\"NaN\"],[\"NaN\",59.0,58.0,57.241808299842354,57.0,56.65487856157185,56.770488319447125,56.83910804677367,57.0,57.012256665634126,57.06219329225947,57.0,56.948711287717224,56.6970236466334,56.47247363752044,56.40393965353303,56.332311374358106,56.33564340357932,56.27352757507483,56.40065310029564,56.51576511011335,56.87842345353097,57.0,57.00322638392678,57.048666817699605,57.01971125915557,57.044167948394964,57.09312034954504,57.59980435971722,60.0,\"NaN\",58.655134897319016,59.0,60.0,\"NaN\"],[\"NaN\",0.0,0.5733439718600425,1.0,2.0,3.0,4.0,5.0,6.0,7.0,8.0,9.0,9.498764393984544,9.823025959921674,9.62632058791006,9.658021157083684,9.824400955123078,9.868063591238618,9.832927722484422,9.794319170618893,9.90260432119898,10.0,10.370677917488207,11.0,12.0,13.0,13.212292897483122,13.819258597243248,14.0,14.465065976983036,14.0,13.663314031967456,13.0,12.3749570295941,12.0,11.735575092585169,11.0,10.109687314964201,10.0,9.76734149239367,9.738775803553786,9.621198729502018,9.448393020658873,9.362696357592302,9.312387168580578,9.0,8.012223788756394,8.0,7.993458865798197,7.0,6.0,5.086467927862049,5.653275235795089,5.151930569555979,5.0,4.110207960098395,4.0,3.0,2.0,1.6872316768749354,1.0,0.02959506036829526,0.12486611954392926,0.6939821625579313,1.0,1.1595263013255872,1.2884725619155826,1.6378720328516732,1.0,0.9376765151031499,0.7167255058506647,0.6780541184453649,0.44257449142924327,0.15678558165080922,0.011172761569623218,0.0,0.0,\"NaN\",41.45407422490618,42.0,43.0,43.46900954900985,44.0,44.5372455952141,44.569899407786714,44.2358478161846,44.65729589082387,45.0,45.21205638895764,45.51103719230894,45.46647971242575,45.00000000000001,44.97056574814871,44.0,43.91364716110885,43.0,42.0,41.0,40.96185915491326,40.0,39.0,38.0,37.0,36.17508201157576,36.0,35.0,34.0,33.0,32.0,31.555498118797715,31.262222657392556,31.0,30.93633787383341,30.000000000000004,29.09321779645876,29.0,28.283601351846436,28.999999999999996,29.647231862720357,29.97580992548905,30.0,30.69637613660767,30.0,29.92426549387089,29.0,28.0,27.0,26.0,25.24401336253381,25.0,24.0,23.0,22.0,21.0,20.56205132241339,20.696171607707548,21.0,22.0,22.76491099075721,23.0,23.340858370098786,24.0,25.0,26.0,26.933604686013524,26.854180911856567,26.620692477743866,26.0,25.149337480457156,25.454737653731392,26.0,26.420194702146496,26.0,25.859766358302476,25.39214235416363,25.08001292956105,25.0,24.0,23.960105017957943,23.0,22.590914756211788,22.0,21.0,20.0,19.46038749856218,19.197617495391334,19.216344143175128,19.693708292979327,41.45407422490618,\"NaN\",1.0,0.763316618204054,0.3183627076361641,1.0,2.0,2.0777539487586845,2.0,1.5826502622699046,1.0,\"NaN\",19.999999999999996,19.92278777654611,19.20919732296607,19.681604710259432,20.0,21.0,21.354477518191846,22.0,22.284430103755053,22.0,21.951355882898127,21.0,20.0,\"NaN\",29.0,30.0,30.18266248773576,30.27971943346155,30.0,29.0,28.892498514754227,28.984574068314995,29.0,\"NaN\"],[\"NaN\",0.0,0.7916364598383203,1.0,2.0,2.662459266023064,3.0,3.537213768680231,4.0,5.0,6.0,7.0,7.616497023743262,8.0,9.0,9.050828527298446,9.775616905554845,10.0,11.0,12.0,12.087642223477525,13.0,13.30091572012811,14.0,14.970424799566063,14.918348831680586,14.0,13.574135548757624,13.883345012254852,14.0,15.0,15.272993863535786,16.0,17.0,18.0,19.0,20.0,20.601959688690748,21.0,22.0,22.803755956469715,22.999999999999996,23.897749208920654,24.0,25.0,25.38045641000123,26.0,27.0,27.87415201744651,27.688610131955976,27.68946260953918,27.568105685044593,27.561687195870945,27.519095990913556,27.511838492719303,27.146692432762087,27.327072450658882,27.677095571495787,27.0,26.97875712691661,26.46246016047139,26.182326896592024,26.0,25.76687600026286,26.0,27.0,28.0,29.0,30.0,30.51549543354253,31.0,32.0,33.0,34.0,35.0,36.0,36.097908150499286,36.0,35.84750080030962,35.0,34.54457723857083,35.0,36.0,36.22273536147331,37.0,37.863644233757924,38.0,38.276564990641546,38.95477132020755,39.00000000000001,39.408365191783645,39.0,38.959724913285214,39.0,39.11429847632448,39.745259458120245,40.0,41.0,41.00295786197327,42.0,42.81379213652286,42.90558820218784,42.03752906824928,42.0,41.83362078709285,42.0,43.0,43.42942079554013,43.0,42.0,41.0,40.63474038468949,60.0,\"NaN\",4.0,3.3459270436365465,3.482653075786218,4.0,5.0,5.416404803919128,5.457843938338909,5.0,4.0,\"NaN\",25.0,24.251754574696562,24.0,23.619910007254965,23.93559568249633,24.0,24.324021410759613,25.0,25.565123059066725,25.487295797736014,25.0,\"NaN\",20.0,19.586904890781216,20.0,20.891263616721844,21.0,21.075333133424568,21.896270943843607,21.0,20.0,\"NaN\"]],\"ys\":[[\"NaN\",0.0,0.3031293797001569,0.3885851588581279,0.37242276916949624,0.1582838563659847,0.1193914617102327,0.5986239271592885,0.9454125107465204,0.9893056756003814,1.0,1.0072044790767964,1.0339851577057166,1.196585620764235,1.5045560954145774,1.5610583473151018,1.4937390877709644,1.5667377943348468,1.7505404910552216,2.0,3.0,4.0,5.0,5.917471985845322,5.969692507928428,6.000000000000001,6.638628512127362,7.0,7.403191801351941,8.0,8.531910591268346,8.534855098954953,9.0,10.0,10.256987660852623,10.304338489039587,10.862950184733636,11.0,12.0,13.0,13.04547988024101,13.2624238531515,13.0,12.947059977072662,12.999999999999998,13.931508807397654,13.935662824470253,13.956011736957404,13.984045632008666,14.0,14.400953457676007,15.0,15.617919494099755,16.0,17.0,17.64290071646738,18.0,18.226496000175388,18.0,17.86963124338182,0.0,\"NaN\"],[\"NaN\",17.626052663972537,17.356946429042296,18.0,18.53613837498515,19.0,20.0,21.0,21.68543613682752,22.0,23.0,23.878361720287447,24.0,25.0,26.0,27.0,28.0,29.0,30.0,31.0,32.0,33.0,33.843367169800125,34.0,35.0,36.0,37.0,38.0,39.0,40.0,\"NaN\",39.0,38.86255750721608,40.0,\"NaN\"],[\"NaN\",34.0239101445243,35.0,35.28954015105647,35.4387922560648,35.52427158025711,35.51919280430392,35.5013640907285,35.52737776224308,35.53916640939043,35.55194759434592,35.46925420203047,35.0,34.0,33.0,32.0,31.0,30.0,29.0,28.0,27.0,26.09651925174323,26.0,25.925365911136343,25.804375283587984,25.185405286973673,25.0,24.0,23.512929830102387,23.0,22.616718501392434,22.0,21.583482792213836,21.0,20.643569658828415,20.0,19.297209228570715,19.0,18.917265767479158,18.0,17.0,16.0,15.0,14.0,13.0,12.305583954946261,12.0,11.997389710796371,12.0,12.339289214874196,12.780437625113779,13.0,14.0,15.0,15.158732173224259,16.0,16.14175083283802,16.53294013640587,16.866868077967325,17.0,17.081403128839685,18.0,19.0,20.0,20.54134165701809,21.0,22.0,23.0,23.787421300058305,24.0,25.0,26.0,27.0,28.0,29.0,29.078316245793424,34.0239101445243,\"NaN\",39.0,38.66011461654278,38.21968688178772,38.0,37.754967932687805,37.0,36.0,35.0,34.0,33.309421017712076,33.0,32.0,31.0,30.10593756552322,30.0,29.018570191950253,29.0,28.55913675306845,28.313521477578885,28.01147388816098,28.0,27.56943479048644,27.52871515765794,27.62810886635497,27.778078430304994,28.0,28.04771364241166,28.23843881517638,28.402157427852707,28.47749237494073,28.340930353368154,28.0,27.0,26.3672087915466,26.0,25.149590510873878,25.0,24.923265202993086,24.0,23.650476250707733,23.0,22.0,21.950547425583064,21.0,20.13975276418182,20.0,19.511829988233526,19.325036423475897,19.422413431486014,19.656879051636622,20.0,20.12187077498952,20.62792200099205,20.69575763621918,20.67838547593942,20.720929786176477,21.0,22.0,22.167229846992115,22.25704901093293,23.0,23.263518993350054,24.0,24.92542835432922,24.959351674549445,24.874631005584572,25.0,26.0,27.0,27.248473104594773,28.0,29.0,29.766930762330126,30.0,30.49687663923877,31.0,32.0,33.0,33.11706871052257,33.96611769304686,34.0,34.6971345275842,35.0,35.17868545478347,35.27915637953852,35.48045588012975,36.0,37.0,38.0,39.0,39.0,\"NaN\",11.809705299147463,12.0,13.0,13.75706241361963,13.025964454182034,13.0,12.86989811346881,12.0,11.809705299147463,\"NaN\",14.919186256746016,15.0,16.0,17.0,17.24835156566033,17.160691212276937,17.0,16.588954074705264,16.0,15.022445059004111,15.0,14.71338612576279,14.919186256746018,\"NaN\",30.99060055300975,30.44819965787638,31.0,32.0,32.284401009676486,32.04875683652446,32.0,31.0,30.99060055300975,\"NaN\"],[\"NaN\",1.5672375845118944,2.0,2.1938706398439605,2.8842809044418325,3.0,3.896314583476052,3.0,2.943051021917371,2.868667381552166,2.821139622869864,2.90121319811898,3.0,3.367850790387028,3.1279996596146304,3.0,2.0,1.690841821882235,1.809973645613967,1.9489126387094355,2.0,2.668263391169208,3.0,3.670914537755973,4.0,5.0,5.479093386435615,6.0,7.0,7.097170770049712,7.1450669228305745,7.0,6.47548583719561,6.216941829472562,6.148953308151196,6.493723241373701,6.7851266802228665,7.0,7.198922823800781,7.5053373504187455,7.0,6.920933724895555,6.0,5.863064367722597,5.2906956193474475,5.0,4.4910812207891695,4.472549583211857,5.0,6.0,7.0,8.0,9.0,10.0,11.0,12.0,13.0,14.0,14.952544132217723,15.0,16.0,17.0,17.515323703178478,18.0,18.22269807010025,18.427811646308093,18.541040949031252,18.49708009185689,18.372826259910394,18.0,17.7937275977819,17.47199196393074,17.424955451048866,17.303873983315285,17.238105176633333,17.07958172828255,17.0,16.488557170578765,16.0,15.340420397724227,15.0,14.683518313214734,14.169832934000596,14.0,13.779795305800604,13.000000000000002,12.591528539268369,12.0,11.0,10.912771463849396,10.0,9.045336228643835,9.0,8.795438748585276,8.0,7.0,6.7122019992196265,6.000629462238223,6.0,5.853346777180418,5.0,4.0,3.0,2.870125880374483,2.0,1.8089861385216335,1.4530201770134594,1.0,0.600494412902295,0.3782694482556703,0.22609713448363075,0.0,0.0,\"NaN\",5.069455291198626,6.0,7.0,7.4671468706591115,7.33561529651595,7.0,6.0,5.509985026114071,5.069455291198626,\"NaN\",11.880127057005424,12.0,12.098507944552573,13.0,14.0,14.230059348348117,14.0,13.68700292352151,13.0,12.0,11.880127057005424,\"NaN\",15.645778515935962,16.0,16.62587191202522,17.0,17.032849542976855,17.0,16.0,15.46824361754773,15.645778515935962,\"NaN\"]]}},\"id\":\"edc8c81d-b19f-4ed2-93fb-ac9dc0439f09\",\"type\":\"ColumnDataSource\"},{\"attributes\":{\"plot\":{\"id\":\"a36941bf-c94e-428a-bf1a-e8975cd410df\",\"subtype\":\"Figure\",\"type\":\"Plot\"}},\"id\":\"03aa53b3-3f54-49f6-8c0d-c1c0f7711dae\",\"type\":\"HelpTool\"},{\"attributes\":{\"bottom_units\":\"screen\",\"fill_alpha\":{\"value\":0.5},\"fill_color\":{\"value\":\"lightgrey\"},\"left_units\":\"screen\",\"level\":\"overlay\",\"line_alpha\":{\"value\":1.0},\"line_color\":{\"value\":\"black\"},\"line_dash\":[4,4],\"line_width\":{\"value\":2},\"plot\":null,\"render_mode\":\"css\",\"right_units\":\"screen\",\"top_units\":\"screen\"},\"id\":\"e29f1e2c-b583-48c7-accb-d04be6bcfcdf\",\"type\":\"BoxAnnotation\"},{\"attributes\":{\"plot\":{\"id\":\"a36941bf-c94e-428a-bf1a-e8975cd410df\",\"subtype\":\"Figure\",\"type\":\"Plot\"}},\"id\":\"74bd9a68-2157-4a21-83fd-0d317881eaa2\",\"type\":\"PanTool\"},{\"attributes\":{\"fill_alpha\":{\"value\":0.1},\"fill_color\":{\"value\":\"#1f77b4\"},\"line_alpha\":{\"value\":0.1},\"line_color\":{\"value\":\"#1f77b4\"},\"line_width\":{\"value\":2},\"xs\":{\"field\":\"xs\"},\"ys\":{\"field\":\"ys\"}},\"id\":\"1ee8000d-38ba-42c8-905f-d30726fd4714\",\"type\":\"Patches\"},{\"attributes\":{\"formatter\":{\"id\":\"2539ff97-731c-4f11-82cf-b28679c723f6\",\"type\":\"BasicTickFormatter\"},\"plot\":{\"id\":\"a36941bf-c94e-428a-bf1a-e8975cd410df\",\"subtype\":\"Figure\",\"type\":\"Plot\"},\"ticker\":{\"id\":\"fa13a7ec-2d4b-43f5-8a44-de3ee58e0746\",\"type\":\"BasicTicker\"}},\"id\":\"deb7fe44-b9b6-4263-8165-43f31c8f592d\",\"type\":\"LinearAxis\"},{\"attributes\":{},\"id\":\"2539ff97-731c-4f11-82cf-b28679c723f6\",\"type\":\"BasicTickFormatter\"},{\"attributes\":{\"plot\":{\"id\":\"a36941bf-c94e-428a-bf1a-e8975cd410df\",\"subtype\":\"Figure\",\"type\":\"Plot\"}},\"id\":\"5db43102-5433-446f-bf97-3a59ad0a766b\",\"type\":\"WheelZoomTool\"},{\"attributes\":{\"palette\":[\"#000080\",\"#000084\",\"#000089\",\"#00008d\",\"#000092\",\"#000096\",\"#00009b\",\"#00009f\",\"#0000a4\",\"#0000a8\",\"#0000ad\",\"#0000b2\",\"#0000b6\",\"#0000bb\",\"#0000bf\",\"#0000c4\",\"#0000c8\",\"#0000cd\",\"#0000d1\",\"#0000d6\",\"#0000da\",\"#0000df\",\"#0000e3\",\"#0000e8\",\"#0000ed\",\"#0000f1\",\"#0000f6\",\"#0000fa\",\"#0000ff\",\"#0000ff\",\"#0000ff\",\"#0000ff\",\"#0000ff\",\"#0004ff\",\"#0008ff\",\"#000cff\",\"#0010ff\",\"#0014ff\",\"#0018ff\",\"#001cff\",\"#0020ff\",\"#0024ff\",\"#0028ff\",\"#002cff\",\"#0030ff\",\"#0034ff\",\"#0038ff\",\"#003cff\",\"#0040ff\",\"#0044ff\",\"#0048ff\",\"#004cff\",\"#0050ff\",\"#0054ff\",\"#0058ff\",\"#005cff\",\"#0060ff\",\"#0064ff\",\"#0068ff\",\"#006cff\",\"#0070ff\",\"#0074ff\",\"#0078ff\",\"#007cff\",\"#0080ff\",\"#0084ff\",\"#0088ff\",\"#008cff\",\"#0090ff\",\"#0094ff\",\"#0098ff\",\"#009cff\",\"#00a0ff\",\"#00a4ff\",\"#00a8ff\",\"#00acff\",\"#00b0ff\",\"#00b4ff\",\"#00b8ff\",\"#00bcff\",\"#00c0ff\",\"#00c4ff\",\"#00c8ff\",\"#00ccff\",\"#00d0ff\",\"#00d4ff\",\"#00d8ff\",\"#00dcfe\",\"#00e0fb\",\"#00e4f8\",\"#02e8f4\",\"#06ecf1\",\"#09f0ee\",\"#0cf4eb\",\"#0ff8e7\",\"#13fce4\",\"#16ffe1\",\"#19ffde\",\"#1cffdb\",\"#1fffd7\",\"#23ffd4\",\"#26ffd1\",\"#29ffce\",\"#2cffca\",\"#30ffc7\",\"#33ffc4\",\"#36ffc1\",\"#39ffbe\",\"#3cffba\",\"#40ffb7\",\"#43ffb4\",\"#46ffb1\",\"#49ffad\",\"#4dffaa\",\"#50ffa7\",\"#53ffa4\",\"#56ffa0\",\"#5aff9d\",\"#5dff9a\",\"#60ff97\",\"#63ff94\",\"#66ff90\",\"#6aff8d\",\"#6dff8a\",\"#70ff87\",\"#73ff83\",\"#77ff80\",\"#7aff7d\",\"#7dff7a\",\"#80ff77\",\"#83ff73\",\"#87ff70\",\"#8aff6d\",\"#8dff6a\",\"#90ff66\",\"#94ff63\",\"#97ff60\",\"#9aff5d\",\"#9dff5a\",\"#a0ff56\",\"#a4ff53\",\"#a7ff50\",\"#aaff4d\",\"#adff49\",\"#b1ff46\",\"#b4ff43\",\"#b7ff40\",\"#baff3c\",\"#beff39\",\"#c1ff36\",\"#c4ff33\",\"#c7ff30\",\"#caff2c\",\"#ceff29\",\"#d1ff26\",\"#d4ff23\",\"#d7ff1f\",\"#dbff1c\",\"#deff19\",\"#e1ff16\",\"#e4ff13\",\"#e7ff0f\",\"#ebff0c\",\"#eeff09\",\"#f1fc06\",\"#f4f802\",\"#f8f500\",\"#fbf100\",\"#feed00\",\"#ffea00\",\"#ffe600\",\"#ffe200\",\"#ffde00\",\"#ffdb00\",\"#ffd700\",\"#ffd300\",\"#ffd000\",\"#ffcc00\",\"#ffc800\",\"#ffc400\",\"#ffc100\",\"#ffbd00\",\"#ffb900\",\"#ffb600\",\"#ffb200\",\"#ffae00\",\"#ffab00\",\"#ffa700\",\"#ffa300\",\"#ff9f00\",\"#ff9c00\",\"#ff9800\",\"#ff9400\",\"#ff9100\",\"#ff8d00\",\"#ff8900\",\"#ff8600\",\"#ff8200\",\"#ff7e00\",\"#ff7a00\",\"#ff7700\",\"#ff7300\",\"#ff6f00\",\"#ff6c00\",\"#ff6800\",\"#ff6400\",\"#ff6000\",\"#ff5d00\",\"#ff5900\",\"#ff5500\",\"#ff5200\",\"#ff4e00\",\"#ff4a00\",\"#ff4700\",\"#ff4300\",\"#ff3f00\",\"#ff3b00\",\"#ff3800\",\"#ff3400\",\"#ff3000\",\"#ff2d00\",\"#ff2900\",\"#ff2500\",\"#ff2200\",\"#ff1e00\",\"#ff1a00\",\"#ff1600\",\"#ff1300\",\"#fa0f00\",\"#f60b00\",\"#f10800\",\"#ed0400\",\"#e80000\",\"#e40000\",\"#df0000\",\"#da0000\",\"#d60000\",\"#d10000\",\"#cd0000\",\"#c80000\",\"#c40000\",\"#bf0000\",\"#bb0000\",\"#b60000\",\"#b20000\",\"#ad0000\",\"#a80000\",\"#a40000\",\"#9f0000\",\"#9b0000\",\"#960000\",\"#920000\",\"#8d0000\",\"#890000\",\"#840000\",\"#800000\"]},\"id\":\"33c10f26-48db-4cdb-94a4-72deb7a4b1e5\",\"type\":\"LinearColorMapper\"},{\"attributes\":{\"formatter\":{\"id\":\"cf576fe0-e6d1-4e49-a549-2c4d428d6185\",\"type\":\"BasicTickFormatter\"},\"plot\":{\"id\":\"a36941bf-c94e-428a-bf1a-e8975cd410df\",\"subtype\":\"Figure\",\"type\":\"Plot\"},\"ticker\":{\"id\":\"441b21e0-a88c-4202-abcd-ca758791def2\",\"type\":\"BasicTicker\"}},\"id\":\"7f99fc3c-b9c3-427d-b221-57d8a0462777\",\"type\":\"LinearAxis\"},{\"attributes\":{},\"id\":\"fa13a7ec-2d4b-43f5-8a44-de3ee58e0746\",\"type\":\"BasicTicker\"},{\"attributes\":{\"data_source\":{\"id\":\"470d8c6b-4302-46eb-8567-4b8474392f0b\",\"type\":\"ColumnDataSource\"},\"glyph\":{\"id\":\"1e596b0e-ac7b-4ccb-9240-514d63a0730a\",\"type\":\"Circle\"},\"hover_glyph\":null,\"nonselection_glyph\":{\"id\":\"9458efa0-aaa9-48eb-a570-38f438f69ed9\",\"type\":\"Circle\"},\"selection_glyph\":null},\"id\":\"26960fae-e169-4e6e-99c4-14925d848e35\",\"type\":\"GlyphRenderer\"},{\"attributes\":{\"data_source\":{\"id\":\"edc8c81d-b19f-4ed2-93fb-ac9dc0439f09\",\"type\":\"ColumnDataSource\"},\"glyph\":{\"id\":\"a51ddce3-bd84-4cf8-8d7a-63b7d95ce956\",\"type\":\"Patches\"},\"hover_glyph\":null,\"nonselection_glyph\":{\"id\":\"1ee8000d-38ba-42c8-905f-d30726fd4714\",\"type\":\"Patches\"},\"selection_glyph\":null},\"id\":\"dc702149-a806-4f13-9238-71fa0f458a66\",\"type\":\"GlyphRenderer\"},{\"attributes\":{\"callback\":null,\"end\":60},\"id\":\"645b93d5-9302-4e73-9713-b9faa36b553e\",\"type\":\"Range1d\"},{\"attributes\":{\"fill_alpha\":{\"value\":0.1},\"fill_color\":{\"value\":\"#1f77b4\"},\"line_alpha\":{\"value\":0.1},\"line_color\":{\"value\":\"#1f77b4\"},\"line_width\":{\"value\":2},\"size\":{\"units\":\"screen\",\"value\":10},\"x\":{\"field\":\"x\"},\"y\":{\"field\":\"y\"}},\"id\":\"9458efa0-aaa9-48eb-a570-38f438f69ed9\",\"type\":\"Circle\"},{\"attributes\":{\"data_source\":{\"id\":\"10dd03c0-99fe-47c9-b615-316391aed410\",\"type\":\"ColumnDataSource\"},\"glyph\":{\"id\":\"70117b28-1b81-44f0-a02e-2deb27c2fd70\",\"type\":\"Image\"},\"hover_glyph\":null,\"nonselection_glyph\":{\"id\":\"fcc036ef-e881-468d-987e-80addca24a0f\",\"type\":\"Image\"},\"selection_glyph\":null},\"id\":\"b38ccb01-b630-4e6c-8cd2-b1f0bbb76578\",\"type\":\"GlyphRenderer\"},{\"attributes\":{\"plot\":{\"id\":\"a36941bf-c94e-428a-bf1a-e8975cd410df\",\"subtype\":\"Figure\",\"type\":\"Plot\"}},\"id\":\"4ee1824e-72bd-4f79-8d44-f97a47e6af43\",\"type\":\"ResizeTool\"},{\"attributes\":{\"plot\":{\"id\":\"a36941bf-c94e-428a-bf1a-e8975cd410df\",\"subtype\":\"Figure\",\"type\":\"Plot\"}},\"id\":\"aff86701-d1a5-4cdb-9400-681d2d63430c\",\"type\":\"PreviewSaveTool\"},{\"attributes\":{\"fill_color\":{\"value\":null},\"line_width\":{\"value\":2},\"size\":{\"units\":\"screen\",\"value\":10},\"x\":{\"field\":\"x\"},\"y\":{\"field\":\"y\"}},\"id\":\"1e596b0e-ac7b-4ccb-9240-514d63a0730a\",\"type\":\"Circle\"},{\"attributes\":{\"callback\":null,\"end\":0,\"start\":40},\"id\":\"6a3eb41c-4d15-45ff-94a5-b4b82de2598a\",\"type\":\"Range1d\"},{\"attributes\":{\"below\":[{\"id\":\"deb7fe44-b9b6-4263-8165-43f31c8f592d\",\"type\":\"LinearAxis\"}],\"left\":[{\"id\":\"7f99fc3c-b9c3-427d-b221-57d8a0462777\",\"type\":\"LinearAxis\"}],\"renderers\":[{\"id\":\"deb7fe44-b9b6-4263-8165-43f31c8f592d\",\"type\":\"LinearAxis\"},{\"id\":\"6458a29d-efa2-473c-905a-1e75a5fa3d65\",\"type\":\"Grid\"},{\"id\":\"7f99fc3c-b9c3-427d-b221-57d8a0462777\",\"type\":\"LinearAxis\"},{\"id\":\"bab633b4-3a26-49fd-bb79-bc1a7ca48387\",\"type\":\"Grid\"},{\"id\":\"e29f1e2c-b583-48c7-accb-d04be6bcfcdf\",\"type\":\"BoxAnnotation\"},{\"id\":\"b38ccb01-b630-4e6c-8cd2-b1f0bbb76578\",\"type\":\"GlyphRenderer\"},{\"id\":\"26960fae-e169-4e6e-99c4-14925d848e35\",\"type\":\"GlyphRenderer\"},{\"id\":\"dc702149-a806-4f13-9238-71fa0f458a66\",\"type\":\"GlyphRenderer\"}],\"tool_events\":{\"id\":\"d08a4d56-d939-4fd0-abaa-dfcdd1a7e148\",\"type\":\"ToolEvents\"},\"tools\":[{\"id\":\"74bd9a68-2157-4a21-83fd-0d317881eaa2\",\"type\":\"PanTool\"},{\"id\":\"5db43102-5433-446f-bf97-3a59ad0a766b\",\"type\":\"WheelZoomTool\"},{\"id\":\"f033927a-2899-4720-aad5-64866992d77c\",\"type\":\"BoxZoomTool\"},{\"id\":\"aff86701-d1a5-4cdb-9400-681d2d63430c\",\"type\":\"PreviewSaveTool\"},{\"id\":\"4ee1824e-72bd-4f79-8d44-f97a47e6af43\",\"type\":\"ResizeTool\"},{\"id\":\"a6297935-0424-41ef-9196-fa33020e39d5\",\"type\":\"ResetTool\"},{\"id\":\"03aa53b3-3f54-49f6-8c0d-c1c0f7711dae\",\"type\":\"HelpTool\"}],\"x_range\":{\"id\":\"645b93d5-9302-4e73-9713-b9faa36b553e\",\"type\":\"Range1d\"},\"y_range\":{\"id\":\"6a3eb41c-4d15-45ff-94a5-b4b82de2598a\",\"type\":\"Range1d\"}},\"id\":\"a36941bf-c94e-428a-bf1a-e8975cd410df\",\"subtype\":\"Figure\",\"type\":\"Plot\"}],\"root_ids\":[\"a36941bf-c94e-428a-bf1a-e8975cd410df\"]},\"title\":\"Bokeh Application\",\"version\":\"0.11.1\"}};\n",
       "            var render_items = [{\"docid\":\"172bacd6-0a8a-4687-8a54-75583f9ac62f\",\"elementid\":\"e8e89fde-7aae-43d9-a2fd-fc152cbd0a78\",\"modelid\":\"a36941bf-c94e-428a-bf1a-e8975cd410df\",\"notebook_comms_target\":\"5928a30c-bfb5-4fb9-b134-d6359fabf234\"}];\n",
       "            \n",
       "            Bokeh.embed.embed_items(docs_json, render_items);\n",
       "        });\n",
       "      },\n",
       "      function(Bokeh) {\n",
       "      }\n",
       "    ];\n",
       "  \n",
       "    function run_inline_js() {\n",
       "      for (var i = 0; i < inline_js.length; i++) {\n",
       "        inline_js[i](window.Bokeh);\n",
       "      }\n",
       "    }\n",
       "  \n",
       "    if (window._bokeh_is_loading === 0) {\n",
       "      console.log(\"Bokeh: BokehJS loaded, going straight to plotting\");\n",
       "      run_inline_js();\n",
       "    } else {\n",
       "      load_libs(js_urls, function() {\n",
       "        console.log(\"Bokeh: BokehJS plotting callback run at\", now());\n",
       "        run_inline_js();\n",
       "      });\n",
       "    }\n",
       "  }(this));\n",
       "</script>"
      ]
     },
     "metadata": {},
     "output_type": "display_data"
    },
    {
     "data": {
      "text/html": [
       "<p><code>&lt;Bokeh Notebook handle for <strong>In[10]</strong>&gt;</code></p>"
      ],
      "text/plain": [
       "<bokeh.io._CommsHandle at 0x11af29828>"
      ]
     },
     "execution_count": 10,
     "metadata": {},
     "output_type": "execute_result"
    }
   ],
   "source": [
    "# view components\n",
    "if type(cnm.A) == np.core.memmap:\n",
    "    p1=nb_plot_contour(images.mean(0),cnm.A,dims[0],dims[1],thr=0.9,face_color=None, line_color='black',alpha=0.4,line_width=2)\n",
    "else:\n",
    "    p1=nb_plot_contour(images.mean(0),cnm.A.todense(),dims[0],dims[1],thr=0.9,face_color=None, line_color='black',alpha=0.4,line_width=2)\n",
    "bpl.show(p1)"
   ]
  },
  {
   "cell_type": "code",
   "execution_count": 11,
   "metadata": {},
   "outputs": [
    {
     "name": "stdout",
     "output_type": "stream",
     "text": [
      "Stopping  cluster to avoid unnencessary use of memory....\n",
      "Stopping cluster...\n",
      "NOT SLURM\n",
      "Waiting for cluster to stop....... done\n"
     ]
    }
   ],
   "source": [
    "# STOP CLUSTER\n",
    "print(\"Stopping  cluster to avoid unnencessary use of memory....\")\n",
    "sys.stdout.flush()  \n",
    "cm.stop_server()"
   ]
  }
 ],
 "metadata": {
  "kernelspec": {
   "display_name": "Python 3",
   "language": "python",
   "name": "python3"
  },
  "language_info": {
   "codemirror_mode": {
    "name": "ipython",
    "version": 3
   },
   "file_extension": ".py",
   "mimetype": "text/x-python",
   "name": "python",
   "nbconvert_exporter": "python",
   "pygments_lexer": "ipython3",
   "version": "3.5.3"
  }
 },
 "nbformat": 4,
 "nbformat_minor": 2
}
