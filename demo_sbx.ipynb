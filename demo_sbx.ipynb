{
 "cells": [
  {
   "cell_type": "code",
   "execution_count": 1,
   "metadata": {
    "collapsed": false
   },
   "outputs": [
    {
     "name": "stdout",
     "output_type": "stream",
     "text": [
      "1\n",
      "KERAS NOT INSTALLED. IF YOU WANT TO USE THE CNN BASED COMPONENT CLASSIFIER (experimental) CONTACT THE DEVELOPERS\n"
     ]
    },
    {
     "data": {
      "text/html": [
       "\n",
       "    <div class=\"bk-root\">\n",
       "        <a href=\"http://bokeh.pydata.org\" target=\"_blank\" class=\"bk-logo bk-logo-small bk-logo-notebook\"></a>\n",
       "        <span id=\"86232f3a-4af6-4320-9f37-1d782f912b99\">Loading BokehJS ...</span>\n",
       "    </div>"
      ]
     },
     "metadata": {},
     "output_type": "display_data"
    },
    {
     "data": {
      "application/javascript": [
       "\n",
       "(function(global) {\n",
       "  function now() {\n",
       "    return new Date();\n",
       "  }\n",
       "\n",
       "  var force = true;\n",
       "\n",
       "  if (typeof (window._bokeh_onload_callbacks) === \"undefined\" || force === true) {\n",
       "    window._bokeh_onload_callbacks = [];\n",
       "    window._bokeh_is_loading = undefined;\n",
       "  }\n",
       "\n",
       "\n",
       "  \n",
       "  if (typeof (window._bokeh_timeout) === \"undefined\" || force === true) {\n",
       "    window._bokeh_timeout = Date.now() + 5000;\n",
       "    window._bokeh_failed_load = false;\n",
       "  }\n",
       "\n",
       "  var NB_LOAD_WARNING = {'data': {'text/html':\n",
       "     \"<div style='background-color: #fdd'>\\n\"+\n",
       "     \"<p>\\n\"+\n",
       "     \"BokehJS does not appear to have successfully loaded. If loading BokehJS from CDN, this \\n\"+\n",
       "     \"may be due to a slow or bad network connection. Possible fixes:\\n\"+\n",
       "     \"</p>\\n\"+\n",
       "     \"<ul>\\n\"+\n",
       "     \"<li>re-rerun `output_notebook()` to attempt to load from CDN again, or</li>\\n\"+\n",
       "     \"<li>use INLINE resources instead, as so:</li>\\n\"+\n",
       "     \"</ul>\\n\"+\n",
       "     \"<code>\\n\"+\n",
       "     \"from bokeh.resources import INLINE\\n\"+\n",
       "     \"output_notebook(resources=INLINE)\\n\"+\n",
       "     \"</code>\\n\"+\n",
       "     \"</div>\"}};\n",
       "\n",
       "  function display_loaded() {\n",
       "    if (window.Bokeh !== undefined) {\n",
       "      document.getElementById(\"86232f3a-4af6-4320-9f37-1d782f912b99\").textContent = \"BokehJS successfully loaded.\";\n",
       "    } else if (Date.now() < window._bokeh_timeout) {\n",
       "      setTimeout(display_loaded, 100)\n",
       "    }\n",
       "  }\n",
       "\n",
       "  function run_callbacks() {\n",
       "    window._bokeh_onload_callbacks.forEach(function(callback) { callback() });\n",
       "    delete window._bokeh_onload_callbacks\n",
       "    console.info(\"Bokeh: all callbacks have finished\");\n",
       "  }\n",
       "\n",
       "  function load_libs(js_urls, callback) {\n",
       "    window._bokeh_onload_callbacks.push(callback);\n",
       "    if (window._bokeh_is_loading > 0) {\n",
       "      console.log(\"Bokeh: BokehJS is being loaded, scheduling callback at\", now());\n",
       "      return null;\n",
       "    }\n",
       "    if (js_urls == null || js_urls.length === 0) {\n",
       "      run_callbacks();\n",
       "      return null;\n",
       "    }\n",
       "    console.log(\"Bokeh: BokehJS not loaded, scheduling load and callback at\", now());\n",
       "    window._bokeh_is_loading = js_urls.length;\n",
       "    for (var i = 0; i < js_urls.length; i++) {\n",
       "      var url = js_urls[i];\n",
       "      var s = document.createElement('script');\n",
       "      s.src = url;\n",
       "      s.async = false;\n",
       "      s.onreadystatechange = s.onload = function() {\n",
       "        window._bokeh_is_loading--;\n",
       "        if (window._bokeh_is_loading === 0) {\n",
       "          console.log(\"Bokeh: all BokehJS libraries loaded\");\n",
       "          run_callbacks()\n",
       "        }\n",
       "      };\n",
       "      s.onerror = function() {\n",
       "        console.warn(\"failed to load library \" + url);\n",
       "      };\n",
       "      console.log(\"Bokeh: injecting script tag for BokehJS library: \", url);\n",
       "      document.getElementsByTagName(\"head\")[0].appendChild(s);\n",
       "    }\n",
       "  };var element = document.getElementById(\"86232f3a-4af6-4320-9f37-1d782f912b99\");\n",
       "  if (element == null) {\n",
       "    console.log(\"Bokeh: ERROR: autoload.js configured with elementid '86232f3a-4af6-4320-9f37-1d782f912b99' but no matching script tag was found. \")\n",
       "    return false;\n",
       "  }\n",
       "\n",
       "  var js_urls = [\"https://cdn.pydata.org/bokeh/release/bokeh-0.12.4.min.js\", \"https://cdn.pydata.org/bokeh/release/bokeh-widgets-0.12.4.min.js\"];\n",
       "\n",
       "  var inline_js = [\n",
       "    function(Bokeh) {\n",
       "      Bokeh.set_log_level(\"info\");\n",
       "    },\n",
       "    \n",
       "    function(Bokeh) {\n",
       "      \n",
       "      document.getElementById(\"86232f3a-4af6-4320-9f37-1d782f912b99\").textContent = \"BokehJS is loading...\";\n",
       "    },\n",
       "    function(Bokeh) {\n",
       "      console.log(\"Bokeh: injecting CSS: https://cdn.pydata.org/bokeh/release/bokeh-0.12.4.min.css\");\n",
       "      Bokeh.embed.inject_css(\"https://cdn.pydata.org/bokeh/release/bokeh-0.12.4.min.css\");\n",
       "      console.log(\"Bokeh: injecting CSS: https://cdn.pydata.org/bokeh/release/bokeh-widgets-0.12.4.min.css\");\n",
       "      Bokeh.embed.inject_css(\"https://cdn.pydata.org/bokeh/release/bokeh-widgets-0.12.4.min.css\");\n",
       "    }\n",
       "  ];\n",
       "\n",
       "  function run_inline_js() {\n",
       "    \n",
       "    if ((window.Bokeh !== undefined) || (force === true)) {\n",
       "      for (var i = 0; i < inline_js.length; i++) {\n",
       "        inline_js[i](window.Bokeh);\n",
       "      }if (force === true) {\n",
       "        display_loaded();\n",
       "      }} else if (Date.now() < window._bokeh_timeout) {\n",
       "      setTimeout(run_inline_js, 100);\n",
       "    } else if (!window._bokeh_failed_load) {\n",
       "      console.log(\"Bokeh: BokehJS failed to load within specified timeout.\");\n",
       "      window._bokeh_failed_load = true;\n",
       "    } else if (force !== true) {\n",
       "      var cell = $(document.getElementById(\"86232f3a-4af6-4320-9f37-1d782f912b99\")).parents('.cell').data().cell;\n",
       "      cell.output_area.append_execute_result(NB_LOAD_WARNING)\n",
       "    }\n",
       "\n",
       "  }\n",
       "\n",
       "  if (window._bokeh_is_loading === 0) {\n",
       "    console.log(\"Bokeh: BokehJS loaded, going straight to plotting\");\n",
       "    run_inline_js();\n",
       "  } else {\n",
       "    load_libs(js_urls, function() {\n",
       "      console.log(\"Bokeh: BokehJS plotting callback run at\", now());\n",
       "      run_inline_js();\n",
       "    });\n",
       "  }\n",
       "}(this));"
      ]
     },
     "metadata": {},
     "output_type": "display_data"
    }
   ],
   "source": [
    "%matplotlib inline\n",
    "try:\n",
    "    get_ipython().magic(u'load_ext autoreload')\n",
    "    get_ipython().magic(u'autoreload 2')\n",
    "    print(1)\n",
    "except:\n",
    "    print('NOT IPYTHON')\n",
    "\n",
    "import sys\n",
    "import numpy as np\n",
    "import psutil\n",
    "from scipy.ndimage.filters import gaussian_filter\n",
    "from ipyparallel import Client\n",
    "\n",
    "import caiman as cm\n",
    "from caiman.utils.visualization import nb_view_patches3d,plot_contours,view_patches_bar,nb_plot_contour,nb_view_patches\n",
    "import caiman.source_extraction.cnmf as cnmf\n",
    "from caiman.components_evaluation import evaluate_components\n",
    "\n",
    "import matplotlib.pyplot as plt\n",
    "import bokeh.plotting as bpl\n",
    "bpl.output_notebook()"
   ]
  },
  {
   "cell_type": "code",
   "execution_count": 2,
   "metadata": {
    "collapsed": true
   },
   "outputs": [],
   "source": [
    "#fname='/Users/elyall/Dropbox/Data/2479_150721_500_small.sbx'\n",
    "#fname='/Users/elyall/Dropbox/Data/2479_150721_500.sbx'\n",
    "\n",
    "fname='/home/elyall/Dropbox/Data/2479_150721_500_small.sbx'\n",
    "#fname='/home/elyall/Dropbox/Data/2479_150721_500.sbx'"
   ]
  },
  {
   "cell_type": "code",
   "execution_count": 3,
   "metadata": {
    "collapsed": false
   },
   "outputs": [
    {
     "name": "stdout",
     "output_type": "stream",
     "text": [
      "sbx\n",
      "(499, 40, 60)\n"
     ]
    },
    {
     "data": {
      "text/plain": [
       "<matplotlib.image.AxesImage at 0x7fc9e4db68d0>"
      ]
     },
     "execution_count": 3,
     "metadata": {},
     "output_type": "execute_result"
    },
    {
     "data": {
      "image/png": "[encoded data removed]",
      "text/plain": [
       "<matplotlib.figure.Figure at 0x7fca22b81ac8>"
      ]
     },
     "metadata": {},
     "output_type": "display_data"
    }
   ],
   "source": [
    "# TEST LOADING\n",
    "Data = cm.base.movies.load(fname)\n",
    "print(Data.shape)\n",
    "plt.imshow(Data.mean(0))"
   ]
  },
  {
   "cell_type": "markdown",
   "metadata": {
    "collapsed": true
   },
   "source": [
    "# Start Cluster"
   ]
  },
  {
   "cell_type": "code",
   "execution_count": 4,
   "metadata": {
    "collapsed": false
   },
   "outputs": [
    {
     "name": "stdout",
     "output_type": "stream",
     "text": [
      "Stopping cluster...\n",
      "NOT SLURM\n",
      "No cluster to stop... done\n",
      "Starting cluster...Waiting for connection file: ~/.ipython/profile_default/security/ipcontroller-client.json\n",
      "......Using 12 processes\n"
     ]
    }
   ],
   "source": [
    "# START CLUSTER\n",
    "n_processes = None # None to use all processes\n",
    "c, dview, n_processes = cm.cluster.setup_cluster(\n",
    "    backend='local', n_processes=n_processes, single_thread=False)"
   ]
  },
  {
   "cell_type": "markdown",
   "metadata": {},
   "source": [
    "# MOTION CORRECTION"
   ]
  },
  {
   "cell_type": "code",
   "execution_count": 5,
   "metadata": {
    "collapsed": false
   },
   "outputs": [
    {
     "name": "stdout",
     "output_type": "stream",
     "text": [
      "Rigid Motion Correction\n",
      "63705\n",
      "cubic interpolation\n",
      "cubic interpolation\n",
      "cubic interpolation\n",
      "Adding to movie 63705\n",
      "0\n",
      "saving!\n",
      "** Startting parallel motion correction **\n"
     ]
    },
    {
     "name": "stderr",
     "output_type": "stream",
     "text": [
      "/home/elyall/Documents/Code/Python/CaImAn/caiman/base/movies.py:263: UserWarning: Casting the array to float 32\n",
      "  warnings.warn('Casting the array to float 32')\n",
      "/home/elyall/Documents/Code/Python/CaImAn/caiman/base/movies.py:342: UserWarning: Casting the array to float 32\n",
      "  warnings.warn('Casting the array to float 32')\n"
     ]
    },
    {
     "name": "stdout",
     "output_type": "stream",
     "text": [
      "** Finished parallel motion correction **\n",
      "0.0644402\n"
     ]
    },
    {
     "data": {
      "text/plain": [
       "<matplotlib.text.Text at 0x7fc9e4c8a6a0>"
      ]
     },
     "execution_count": 5,
     "metadata": {},
     "output_type": "execute_result"
    },
    {
     "data": {
      "image/png": "[encoded data removed]",
      "text/plain": [
       "<matplotlib.figure.Figure at 0x7fc9e4c96b70>"
      ]
     },
     "metadata": {},
     "output_type": "display_data"
    }
   ],
   "source": [
    "# set parameters\n",
    "params_movie = {'fname': fname,\n",
    "                'niter_rig': 1,\n",
    "                'max_shifts': (6, 6),  # maximum allow rigid shift\n",
    "                'splits_rig': 56,  # for parallelization split the movies in  num_splits chuncks across time\n",
    "                # if none all the splits are processed and the movie is saved\n",
    "                'num_splits_to_process_rig': None,\n",
    "                # intervals at which patches are laid out for motion correction\n",
    "                'strides': (48, 48),\n",
    "                # overlap between pathes (size of patch strides+overlaps)\n",
    "                'overlaps': (24, 24),\n",
    "                'splits_els': 56,  # for parallelization split the movies in  num_splits chuncks across time\n",
    "                # if none all the splits are processed and the movie is saved\n",
    "                'num_splits_to_process_els': [28, None],\n",
    "                'upsample_factor_grid': 4,  # upsample factor to avoid smearing when merging patches\n",
    "                # maximum deviation allowed for patch with respect to rigid\n",
    "                # shift\n",
    "                'max_deviation_rigid': 3,\n",
    "                'p': 1,  # order of the autoregressive system\n",
    "                'merge_thresh': 0.8,  # merging threshold, max correlation allowed\n",
    "                'rf': 15,  # half-size of the patches in pixels. rf=25, patches are 50x50\n",
    "                'stride_cnmf': 6,  # amounpl.it of overlap between the patches in pixels\n",
    "                'K': 4,  # number of components per patch\n",
    "                # if dendritic. In this case you need to set init_method to\n",
    "                # sparse_nmf\n",
    "                'is_dendrites': False,\n",
    "                'init_method': 'greedy_roi',\n",
    "                'gSig': [4, 4],  # expected half size of neurons\n",
    "                'alpha_snmf': None,  # this controls sparsity\n",
    "                'final_frate': 15.46\n",
    "                }\n",
    "\n",
    "#%% parameters from dictionary\n",
    "fname = params_movie['fname']\n",
    "niter_rig = params_movie['niter_rig']\n",
    "# maximum allow rigid shift\n",
    "max_shifts = params_movie['max_shifts']  \n",
    "# for parallelization split the movies in  num_splits chuncks across time\n",
    "splits_rig = params_movie['splits_rig']  \n",
    "# if none all the splits are processed and the movie is saved\n",
    "num_splits_to_process_rig = params_movie['num_splits_to_process_rig']\n",
    "# intervals at which patches are laid out for motion correction\n",
    "strides = params_movie['strides']\n",
    "# overlap between pathes (size of patch strides+overlaps)\n",
    "overlaps = params_movie['overlaps']\n",
    "# for parallelization split the movies in  num_splits chuncks across time\n",
    "splits_els = params_movie['splits_els'] \n",
    "# if none all the splits are processed and the movie is saved\n",
    "num_splits_to_process_els = params_movie['num_splits_to_process_els']\n",
    "# upsample factor to avoid smearing when merging patches\n",
    "upsample_factor_grid = params_movie['upsample_factor_grid'] \n",
    "# maximum deviation allowed for patch with respect to rigid\n",
    "# shift\n",
    "max_deviation_rigid = params_movie['max_deviation_rigid']\n",
    "\n",
    "# perform rigid motion correction (movie must be mostly positive for this to work)\n",
    "min_mov = cm.load(fname, subindices=range(400)).min()\n",
    "mc = cm.motion_correction.MotionCorrect(fname, min_mov,\n",
    "                   dview=dview, max_shifts=max_shifts, niter_rig=niter_rig, splits_rig=splits_rig, \n",
    "                   num_splits_to_process_rig=num_splits_to_process_rig, \n",
    "                   strides= strides, overlaps= overlaps, splits_els=splits_els,\n",
    "                   num_splits_to_process_els=num_splits_to_process_els, \n",
    "                   upsample_factor_grid=upsample_factor_grid, max_deviation_rigid=max_deviation_rigid, \n",
    "                   shifts_opencv=True, nonneg_movie=True)\n",
    "\n",
    "mc.motion_correct_rigid(save_movie=False)\n",
    "\n",
    "# display correction\n",
    "plt.plot(mc.shifts_rig)\n",
    "plt.legend(['x shifts','y shifts'])\n",
    "plt.xlabel('frames')\n",
    "plt.ylabel('pixels')"
   ]
  },
  {
   "cell_type": "code",
   "execution_count": 6,
   "metadata": {
    "collapsed": false
   },
   "outputs": [
    {
     "name": "stdout",
     "output_type": "stream",
     "text": [
      "/home/elyall/Dropbox/Data/2479_150721_500_small.sbx\n",
      "sbx\n",
      "cubic interpolation\n",
      "Frame 100\n",
      "Frame 200\n",
      "Frame 300\n",
      "Frame 400\n"
     ]
    },
    {
     "name": "stderr",
     "output_type": "stream",
     "text": [
      "/home/elyall/Documents/Code/Python/CaImAn/caiman/base/movies.py:342: UserWarning: Casting the array to float 32\n",
      "  warnings.warn('Casting the array to float 32')\n"
     ]
    },
    {
     "name": "stdout",
     "output_type": "stream",
     "text": [
      "/home/elyall/Dropbox/Data/Yr_d1_40_d2_60_d3_1_order_F_frames_499_.mmap\n"
     ]
    }
   ],
   "source": [
    "# SAVE DATA TO MEMMAP FILE\n",
    "fname = cm.save_memmap([fname], base_name='Yr', xy_shifts=mc.shifts_rig)\n",
    "print(fname)"
   ]
  },
  {
   "cell_type": "code",
   "execution_count": 7,
   "metadata": {
    "collapsed": false
   },
   "outputs": [
    {
     "name": "stdout",
     "output_type": "stream",
     "text": [
      "<class 'numpy.core.memmap.memmap'> (2400, 499) (40, 60) 499\n"
     ]
    }
   ],
   "source": [
    "# LOAD MemMap FILE\n",
    "Yr, dims, T = cm.load_memmap(fname)\n",
    "print(type(Yr),Yr.shape,dims,T)"
   ]
  },
  {
   "cell_type": "code",
   "execution_count": 8,
   "metadata": {
    "collapsed": false
   },
   "outputs": [],
   "source": [
    "# LOAD Direct FILE\n",
    "#fn='/Users/elyall/Dropbox/Data/2479_150721_500_small.sbx'\n",
    "#Yr = cm.base.movies.load(fn)\n",
    "#Yr = Yr.apply_shifts(mc.shifts_rig)\n",
    "#Yr = Yr.transpose([2,1,0]).reshape([40*60,499])\n",
    "#print(type(Yr),Yr.shape)"
   ]
  },
  {
   "cell_type": "code",
   "execution_count": 9,
   "metadata": {
    "collapsed": false
   },
   "outputs": [
    {
     "data": {
      "image/png": "[encoded data removed]",
      "text/plain": [
       "<matplotlib.figure.Figure at 0x7fc9e4d27cc0>"
      ]
     },
     "metadata": {},
     "output_type": "display_data"
    }
   ],
   "source": [
    "# Compute local correlations to get a sense of the data\n",
    "Y = np.reshape(Yr, dims + (T,), order='F')\n",
    "Cn = cm.local_correlations(Y)\n",
    "plt.imshow(Cn.max(0) if len(Cn.shape) == 3 else Cn, cmap='gray',\n",
    "           vmin=np.percentile(Cn, 1), vmax=np.percentile(Cn, 99))\n",
    "plt.show()"
   ]
  },
  {
   "cell_type": "markdown",
   "metadata": {},
   "source": [
    "# CNMF"
   ]
  },
  {
   "cell_type": "code",
   "execution_count": 10,
   "metadata": {
    "collapsed": false
   },
   "outputs": [
    {
     "name": "stdout",
     "output_type": "stream",
     "text": [
      "(499, 40, 60)\n",
      "using 12 processes\n",
      "using 4000 pixels per process\n",
      "using 5000 block_size\n",
      "(40, 50)\n",
      "You may think that it went well but reality is harsh\n",
      "1.622262716293335\n",
      "Transforming patches into full matrix\n",
      "Skipped %d Empty Patch 0\n",
      "Generating background\n",
      "Generating background DONE\n",
      "merging\n",
      "[0 1 2 3 4 5 6 7]\n",
      "No neurons merged!"
     ]
    },
    {
     "name": "stderr",
     "output_type": "stream",
     "text": [
      "/home/elyall/anaconda3/envs/CaImAn/lib/python3.6/site-packages/scipy/sparse/compressed.py:730: SparseEfficiencyWarning: Changing the sparsity structure of a csc_matrix is expensive. lil_matrix is more efficient.\n",
      "  SparseEfficiencyWarning)\n"
     ]
    },
    {
     "name": "stdout",
     "output_type": "stream",
     "text": [
      "\n",
      "update temporal\n",
      "Generating residuals\n",
      "parallel dot product block size: 5000\n",
      "Start product\n",
      "Processed:[0, 1]\n",
      "Transposing\n",
      "entering the deconvolution \n",
      "1 out of total 1 temporal components updated\n",
      "1 out of total 1 temporal components updated\n",
      "stopping: overall temporal component not changing significantly\n"
     ]
    }
   ],
   "source": [
    "# SET PATCHES TO SPLIT\n",
    "K = 4  # number of neurons expected per patch\n",
    "# single patch\n",
    "rf = None\n",
    "stride = None\n",
    "# full field of view\n",
    "rf = (25, 25)  # half-size of the patches in pixels. rf=25, patches are 50x50\n",
    "stride = (10, 10)  # amount of overlap between the patches in pixels\n",
    "\n",
    "# SET PARAMETERS\n",
    "gSig = [10, 10]  # expected half size of neurons\n",
    "merge_thresh = 0.8  # merging threshold, max correlation allowed\n",
    "p = 2  # order of the autoregressive system\n",
    "init_method = 'greedy_roi'\n",
    "method_deconvolution='oasis' # 'oasis' is fastest\n",
    "alpha_snmf = None  # 10e2  # this controls sparsity\n",
    "save_results = False\n",
    "\n",
    "# INIT\n",
    "cnm = cnmf.CNMF(n_processes, k=K, gSig=gSig, merge_thresh=0.8, p=p, dview=c[:], Ain=None, rf=rf, stride=stride, memory_fact=1,\n",
    "                method_init=init_method, alpha_snmf=alpha_snmf, only_init_patch=True, gnb=1, method_deconvolution=method_deconvolution)\n",
    "\n",
    "# FIT\n",
    "images = np.reshape(Yr.T, [T] + list(dims), order='F')\n",
    "cnm = cnm.fit(images)"
   ]
  },
  {
   "cell_type": "code",
   "execution_count": 11,
   "metadata": {
    "collapsed": false
   },
   "outputs": [
    {
     "name": "stderr",
     "output_type": "stream",
     "text": [
      "/home/elyall/Documents/Code/Python/CaImAn/caiman/utils/visualization.py:916: UserWarning: The way to call utilities.plot_contours has changed. Look at the definition for more details.\n",
      "  warn(\"The way to call utilities.plot_contours has changed. Look at the definition for more details.\")\n"
     ]
    },
    {
     "data": {
      "text/html": [
       "\n",
       "\n",
       "    <div class=\"bk-root\">\n",
       "        <div class=\"bk-plotdiv\" id=\"57c60322-a5b2-4ffb-83d0-5324a3fb978c\"></div>\n",
       "    </div>\n",
       "<script type=\"text/javascript\">\n",
       "  \n",
       "  (function(global) {\n",
       "    function now() {\n",
       "      return new Date();\n",
       "    }\n",
       "  \n",
       "    var force = false;\n",
       "  \n",
       "    if (typeof (window._bokeh_onload_callbacks) === \"undefined\" || force === true) {\n",
       "      window._bokeh_onload_callbacks = [];\n",
       "      window._bokeh_is_loading = undefined;\n",
       "    }\n",
       "  \n",
       "  \n",
       "    \n",
       "    if (typeof (window._bokeh_timeout) === \"undefined\" || force === true) {\n",
       "      window._bokeh_timeout = Date.now() + 0;\n",
       "      window._bokeh_failed_load = false;\n",
       "    }\n",
       "  \n",
       "    var NB_LOAD_WARNING = {'data': {'text/html':\n",
       "       \"<div style='background-color: #fdd'>\\n\"+\n",
       "       \"<p>\\n\"+\n",
       "       \"BokehJS does not appear to have successfully loaded. If loading BokehJS from CDN, this \\n\"+\n",
       "       \"may be due to a slow or bad network connection. Possible fixes:\\n\"+\n",
       "       \"</p>\\n\"+\n",
       "       \"<ul>\\n\"+\n",
       "       \"<li>re-rerun `output_notebook()` to attempt to load from CDN again, or</li>\\n\"+\n",
       "       \"<li>use INLINE resources instead, as so:</li>\\n\"+\n",
       "       \"</ul>\\n\"+\n",
       "       \"<code>\\n\"+\n",
       "       \"from bokeh.resources import INLINE\\n\"+\n",
       "       \"output_notebook(resources=INLINE)\\n\"+\n",
       "       \"</code>\\n\"+\n",
       "       \"</div>\"}};\n",
       "  \n",
       "    function display_loaded() {\n",
       "      if (window.Bokeh !== undefined) {\n",
       "        document.getElementById(\"57c60322-a5b2-4ffb-83d0-5324a3fb978c\").textContent = \"BokehJS successfully loaded.\";\n",
       "      } else if (Date.now() < window._bokeh_timeout) {\n",
       "        setTimeout(display_loaded, 100)\n",
       "      }\n",
       "    }\n",
       "  \n",
       "    function run_callbacks() {\n",
       "      window._bokeh_onload_callbacks.forEach(function(callback) { callback() });\n",
       "      delete window._bokeh_onload_callbacks\n",
       "      console.info(\"Bokeh: all callbacks have finished\");\n",
       "    }\n",
       "  \n",
       "    function load_libs(js_urls, callback) {\n",
       "      window._bokeh_onload_callbacks.push(callback);\n",
       "      if (window._bokeh_is_loading > 0) {\n",
       "        console.log(\"Bokeh: BokehJS is being loaded, scheduling callback at\", now());\n",
       "        return null;\n",
       "      }\n",
       "      if (js_urls == null || js_urls.length === 0) {\n",
       "        run_callbacks();\n",
       "        return null;\n",
       "      }\n",
       "      console.log(\"Bokeh: BokehJS not loaded, scheduling load and callback at\", now());\n",
       "      window._bokeh_is_loading = js_urls.length;\n",
       "      for (var i = 0; i < js_urls.length; i++) {\n",
       "        var url = js_urls[i];\n",
       "        var s = document.createElement('script');\n",
       "        s.src = url;\n",
       "        s.async = false;\n",
       "        s.onreadystatechange = s.onload = function() {\n",
       "          window._bokeh_is_loading--;\n",
       "          if (window._bokeh_is_loading === 0) {\n",
       "            console.log(\"Bokeh: all BokehJS libraries loaded\");\n",
       "            run_callbacks()\n",
       "          }\n",
       "        };\n",
       "        s.onerror = function() {\n",
       "          console.warn(\"failed to load library \" + url);\n",
       "        };\n",
       "        console.log(\"Bokeh: injecting script tag for BokehJS library: \", url);\n",
       "        document.getElementsByTagName(\"head\")[0].appendChild(s);\n",
       "      }\n",
       "    };var element = document.getElementById(\"57c60322-a5b2-4ffb-83d0-5324a3fb978c\");\n",
       "    if (element == null) {\n",
       "      console.log(\"Bokeh: ERROR: autoload.js configured with elementid '57c60322-a5b2-4ffb-83d0-5324a3fb978c' but no matching script tag was found. \")\n",
       "      return false;\n",
       "    }\n",
       "  \n",
       "    var js_urls = [];\n",
       "  \n",
       "    var inline_js = [\n",
       "      function(Bokeh) {\n",
       "        (function() {\n",
       "          var fn = function() {\n",
       "            var docs_json = {\"ac7ae627-c390-4cc1-b37b-d97b63bcda85\":{\"roots\":{\"references\":[{\"attributes\":{\"callback\":null,\"end\":0,\"start\":40},\"id\":\"8ca9dd59-e38d-4322-b1e7-fcb83ecf15a2\",\"type\":\"Range1d\"},{\"attributes\":{\"plot\":{\"id\":\"8a9d1a2f-590b-4316-b439-b3dc31451c44\",\"subtype\":\"Figure\",\"type\":\"Plot\"}},\"id\":\"8f8efc01-feea-4431-9448-819299cc3b92\",\"type\":\"PanTool\"},{\"attributes\":{},\"id\":\"ed1a56c5-3eae-4cb2-a3fb-28773f3c2be6\",\"type\":\"BasicTicker\"},{\"attributes\":{\"callback\":null,\"column_names\":[\"x\",\"y\"],\"data\":{\"x\":{\"__ndarray__\":\"Ek7Kb4RmO0A=\",\"dtype\":\"float64\",\"shape\":[1]},\"y\":{\"__ndarray__\":\"jpat16qXMUA=\",\"dtype\":\"float64\",\"shape\":[1]}}},\"id\":\"74f99750-a35f-4709-9cd1-b780a5613397\",\"type\":\"ColumnDataSource\"},{\"attributes\":{\"plot\":{\"id\":\"8a9d1a2f-590b-4316-b439-b3dc31451c44\",\"subtype\":\"Figure\",\"type\":\"Plot\"}},\"id\":\"b24c38f3-f1af-4d7f-87a5-254dfb440ca0\",\"type\":\"WheelZoomTool\"},{\"attributes\":{\"overlay\":{\"id\":\"3f0476a7-152d-4689-80f8-1b5cf68b6924\",\"type\":\"BoxAnnotation\"},\"plot\":{\"id\":\"8a9d1a2f-590b-4316-b439-b3dc31451c44\",\"subtype\":\"Figure\",\"type\":\"Plot\"}},\"id\":\"0569124a-f202-4534-b946-9d5f3270acd4\",\"type\":\"BoxZoomTool\"},{\"attributes\":{\"color_mapper\":{\"id\":\"4105f2f0-a665-4836-89e9-1a5fa1652224\",\"type\":\"LinearColorMapper\"},\"dh\":{\"units\":\"data\",\"value\":40},\"dw\":{\"units\":\"data\",\"value\":60},\"image\":{\"field\":\"image\"},\"x\":{\"value\":0},\"y\":{\"value\":40}},\"id\":\"f6979aa9-3e06-4ef6-b381-09aba3af85a7\",\"type\":\"Image\"},{\"attributes\":{\"fill_alpha\":{\"value\":0.4},\"fill_color\":{\"value\":null},\"line_alpha\":{\"value\":0.4},\"line_width\":{\"value\":2},\"xs\":{\"field\":\"xs\"},\"ys\":{\"field\":\"ys\"}},\"id\":\"ae16c748-a55f-4c8f-86f6-2eefe65e9999\",\"type\":\"Patches\"},{\"attributes\":{\"callback\":null,\"column_names\":[\"image\"],\"data\":{\"image\":[{\"__ndarray__\":\"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\",\"dtype\":\"float32\",\"shape\":[40,60]}]}},\"id\":\"33d252a1-ae0a-4374-9c7e-86f46f2acbe3\",\"type\":\"ColumnDataSource\"},{\"attributes\":{\"palette\":[\"#000080\",\"#000084\",\"#000089\",\"#00008d\",\"#000092\",\"#000096\",\"#00009b\",\"#00009f\",\"#0000a4\",\"#0000a8\",\"#0000ad\",\"#0000b2\",\"#0000b6\",\"#0000bb\",\"#0000bf\",\"#0000c4\",\"#0000c8\",\"#0000cd\",\"#0000d1\",\"#0000d6\",\"#0000da\",\"#0000df\",\"#0000e3\",\"#0000e8\",\"#0000ed\",\"#0000f1\",\"#0000f6\",\"#0000fa\",\"#0000ff\",\"#0000ff\",\"#0000ff\",\"#0000ff\",\"#0000ff\",\"#0004ff\",\"#0008ff\",\"#000cff\",\"#0010ff\",\"#0014ff\",\"#0018ff\",\"#001cff\",\"#0020ff\",\"#0024ff\",\"#0028ff\",\"#002cff\",\"#0030ff\",\"#0034ff\",\"#0038ff\",\"#003cff\",\"#0040ff\",\"#0044ff\",\"#0048ff\",\"#004cff\",\"#0050ff\",\"#0054ff\",\"#0058ff\",\"#005cff\",\"#0060ff\",\"#0064ff\",\"#0068ff\",\"#006cff\",\"#0070ff\",\"#0074ff\",\"#0078ff\",\"#007cff\",\"#0080ff\",\"#0084ff\",\"#0088ff\",\"#008cff\",\"#0090ff\",\"#0094ff\",\"#0098ff\",\"#009cff\",\"#00a0ff\",\"#00a4ff\",\"#00a8ff\",\"#00acff\",\"#00b0ff\",\"#00b4ff\",\"#00b8ff\",\"#00bcff\",\"#00c0ff\",\"#00c4ff\",\"#00c8ff\",\"#00ccff\",\"#00d0ff\",\"#00d4ff\",\"#00d8ff\",\"#00dcfe\",\"#00e0fb\",\"#00e4f8\",\"#02e8f4\",\"#06ecf1\",\"#09f0ee\",\"#0cf4eb\",\"#0ff8e7\",\"#13fce4\",\"#16ffe1\",\"#19ffde\",\"#1cffdb\",\"#1fffd7\",\"#23ffd4\",\"#26ffd1\",\"#29ffce\",\"#2cffca\",\"#30ffc7\",\"#33ffc4\",\"#36ffc1\",\"#39ffbe\",\"#3cffba\",\"#40ffb7\",\"#43ffb4\",\"#46ffb1\",\"#49ffad\",\"#4dffaa\",\"#50ffa7\",\"#53ffa4\",\"#56ffa0\",\"#5aff9d\",\"#5dff9a\",\"#60ff97\",\"#63ff94\",\"#66ff90\",\"#6aff8d\",\"#6dff8a\",\"#70ff87\",\"#73ff83\",\"#77ff80\",\"#7aff7d\",\"#7dff7a\",\"#80ff77\",\"#83ff73\",\"#87ff70\",\"#8aff6d\",\"#8dff6a\",\"#90ff66\",\"#94ff63\",\"#97ff60\",\"#9aff5d\",\"#9dff5a\",\"#a0ff56\",\"#a4ff53\",\"#a7ff50\",\"#aaff4d\",\"#adff49\",\"#b1ff46\",\"#b4ff43\",\"#b7ff40\",\"#baff3c\",\"#beff39\",\"#c1ff36\",\"#c4ff33\",\"#c7ff30\",\"#caff2c\",\"#ceff29\",\"#d1ff26\",\"#d4ff23\",\"#d7ff1f\",\"#dbff1c\",\"#deff19\",\"#e1ff16\",\"#e4ff13\",\"#e7ff0f\",\"#ebff0c\",\"#eeff09\",\"#f1fc06\",\"#f4f802\",\"#f8f500\",\"#fbf100\",\"#feed00\",\"#ffea00\",\"#ffe600\",\"#ffe200\",\"#ffde00\",\"#ffdb00\",\"#ffd700\",\"#ffd300\",\"#ffd000\",\"#ffcc00\",\"#ffc800\",\"#ffc400\",\"#ffc100\",\"#ffbd00\",\"#ffb900\",\"#ffb600\",\"#ffb200\",\"#ffae00\",\"#ffab00\",\"#ffa700\",\"#ffa300\",\"#ff9f00\",\"#ff9c00\",\"#ff9800\",\"#ff9400\",\"#ff9100\",\"#ff8d00\",\"#ff8900\",\"#ff8600\",\"#ff8200\",\"#ff7e00\",\"#ff7a00\",\"#ff7700\",\"#ff7300\",\"#ff6f00\",\"#ff6c00\",\"#ff6800\",\"#ff6400\",\"#ff6000\",\"#ff5d00\",\"#ff5900\",\"#ff5500\",\"#ff5200\",\"#ff4e00\",\"#ff4a00\",\"#ff4700\",\"#ff4300\",\"#ff3f00\",\"#ff3b00\",\"#ff3800\",\"#ff3400\",\"#ff3000\",\"#ff2d00\",\"#ff2900\",\"#ff2500\",\"#ff2200\",\"#ff1e00\",\"#ff1a00\",\"#ff1600\",\"#ff1300\",\"#fa0f00\",\"#f60b00\",\"#f10800\",\"#ed0400\",\"#e80000\",\"#e40000\",\"#df0000\",\"#da0000\",\"#d60000\",\"#d10000\",\"#cd0000\",\"#c80000\",\"#c40000\",\"#bf0000\",\"#bb0000\",\"#b60000\",\"#b20000\",\"#ad0000\",\"#a80000\",\"#a40000\",\"#9f0000\",\"#9b0000\",\"#960000\",\"#920000\",\"#8d0000\",\"#890000\",\"#840000\",\"#800000\"]},\"id\":\"4105f2f0-a665-4836-89e9-1a5fa1652224\",\"type\":\"LinearColorMapper\"},{\"attributes\":{\"fill_alpha\":{\"value\":0.1},\"fill_color\":{\"value\":\"#1f77b4\"},\"line_alpha\":{\"value\":0.1},\"line_color\":{\"value\":\"#1f77b4\"},\"line_width\":{\"value\":2},\"size\":{\"units\":\"screen\",\"value\":10},\"x\":{\"field\":\"x\"},\"y\":{\"field\":\"y\"}},\"id\":\"89f05fbe-7acf-4c0e-9a4e-c46bffcb0d9c\",\"type\":\"Circle\"},{\"attributes\":{\"palette\":[\"#000080\",\"#000084\",\"#000089\",\"#00008d\",\"#000092\",\"#000096\",\"#00009b\",\"#00009f\",\"#0000a4\",\"#0000a8\",\"#0000ad\",\"#0000b2\",\"#0000b6\",\"#0000bb\",\"#0000bf\",\"#0000c4\",\"#0000c8\",\"#0000cd\",\"#0000d1\",\"#0000d6\",\"#0000da\",\"#0000df\",\"#0000e3\",\"#0000e8\",\"#0000ed\",\"#0000f1\",\"#0000f6\",\"#0000fa\",\"#0000ff\",\"#0000ff\",\"#0000ff\",\"#0000ff\",\"#0000ff\",\"#0004ff\",\"#0008ff\",\"#000cff\",\"#0010ff\",\"#0014ff\",\"#0018ff\",\"#001cff\",\"#0020ff\",\"#0024ff\",\"#0028ff\",\"#002cff\",\"#0030ff\",\"#0034ff\",\"#0038ff\",\"#003cff\",\"#0040ff\",\"#0044ff\",\"#0048ff\",\"#004cff\",\"#0050ff\",\"#0054ff\",\"#0058ff\",\"#005cff\",\"#0060ff\",\"#0064ff\",\"#0068ff\",\"#006cff\",\"#0070ff\",\"#0074ff\",\"#0078ff\",\"#007cff\",\"#0080ff\",\"#0084ff\",\"#0088ff\",\"#008cff\",\"#0090ff\",\"#0094ff\",\"#0098ff\",\"#009cff\",\"#00a0ff\",\"#00a4ff\",\"#00a8ff\",\"#00acff\",\"#00b0ff\",\"#00b4ff\",\"#00b8ff\",\"#00bcff\",\"#00c0ff\",\"#00c4ff\",\"#00c8ff\",\"#00ccff\",\"#00d0ff\",\"#00d4ff\",\"#00d8ff\",\"#00dcfe\",\"#00e0fb\",\"#00e4f8\",\"#02e8f4\",\"#06ecf1\",\"#09f0ee\",\"#0cf4eb\",\"#0ff8e7\",\"#13fce4\",\"#16ffe1\",\"#19ffde\",\"#1cffdb\",\"#1fffd7\",\"#23ffd4\",\"#26ffd1\",\"#29ffce\",\"#2cffca\",\"#30ffc7\",\"#33ffc4\",\"#36ffc1\",\"#39ffbe\",\"#3cffba\",\"#40ffb7\",\"#43ffb4\",\"#46ffb1\",\"#49ffad\",\"#4dffaa\",\"#50ffa7\",\"#53ffa4\",\"#56ffa0\",\"#5aff9d\",\"#5dff9a\",\"#60ff97\",\"#63ff94\",\"#66ff90\",\"#6aff8d\",\"#6dff8a\",\"#70ff87\",\"#73ff83\",\"#77ff80\",\"#7aff7d\",\"#7dff7a\",\"#80ff77\",\"#83ff73\",\"#87ff70\",\"#8aff6d\",\"#8dff6a\",\"#90ff66\",\"#94ff63\",\"#97ff60\",\"#9aff5d\",\"#9dff5a\",\"#a0ff56\",\"#a4ff53\",\"#a7ff50\",\"#aaff4d\",\"#adff49\",\"#b1ff46\",\"#b4ff43\",\"#b7ff40\",\"#baff3c\",\"#beff39\",\"#c1ff36\",\"#c4ff33\",\"#c7ff30\",\"#caff2c\",\"#ceff29\",\"#d1ff26\",\"#d4ff23\",\"#d7ff1f\",\"#dbff1c\",\"#deff19\",\"#e1ff16\",\"#e4ff13\",\"#e7ff0f\",\"#ebff0c\",\"#eeff09\",\"#f1fc06\",\"#f4f802\",\"#f8f500\",\"#fbf100\",\"#feed00\",\"#ffea00\",\"#ffe600\",\"#ffe200\",\"#ffde00\",\"#ffdb00\",\"#ffd700\",\"#ffd300\",\"#ffd000\",\"#ffcc00\",\"#ffc800\",\"#ffc400\",\"#ffc100\",\"#ffbd00\",\"#ffb900\",\"#ffb600\",\"#ffb200\",\"#ffae00\",\"#ffab00\",\"#ffa700\",\"#ffa300\",\"#ff9f00\",\"#ff9c00\",\"#ff9800\",\"#ff9400\",\"#ff9100\",\"#ff8d00\",\"#ff8900\",\"#ff8600\",\"#ff8200\",\"#ff7e00\",\"#ff7a00\",\"#ff7700\",\"#ff7300\",\"#ff6f00\",\"#ff6c00\",\"#ff6800\",\"#ff6400\",\"#ff6000\",\"#ff5d00\",\"#ff5900\",\"#ff5500\",\"#ff5200\",\"#ff4e00\",\"#ff4a00\",\"#ff4700\",\"#ff4300\",\"#ff3f00\",\"#ff3b00\",\"#ff3800\",\"#ff3400\",\"#ff3000\",\"#ff2d00\",\"#ff2900\",\"#ff2500\",\"#ff2200\",\"#ff1e00\",\"#ff1a00\",\"#ff1600\",\"#ff1300\",\"#fa0f00\",\"#f60b00\",\"#f10800\",\"#ed0400\",\"#e80000\",\"#e40000\",\"#df0000\",\"#da0000\",\"#d60000\",\"#d10000\",\"#cd0000\",\"#c80000\",\"#c40000\",\"#bf0000\",\"#bb0000\",\"#b60000\",\"#b20000\",\"#ad0000\",\"#a80000\",\"#a40000\",\"#9f0000\",\"#9b0000\",\"#960000\",\"#920000\",\"#8d0000\",\"#890000\",\"#840000\",\"#800000\"]},\"id\":\"51ccda55-3440-4325-aff2-e9d725947bcd\",\"type\":\"LinearColorMapper\"},{\"attributes\":{\"data_source\":{\"id\":\"74f99750-a35f-4709-9cd1-b780a5613397\",\"type\":\"ColumnDataSource\"},\"glyph\":{\"id\":\"0ded9d0f-db21-4752-9979-f52b0a132d50\",\"type\":\"Circle\"},\"hover_glyph\":null,\"nonselection_glyph\":{\"id\":\"89f05fbe-7acf-4c0e-9a4e-c46bffcb0d9c\",\"type\":\"Circle\"},\"selection_glyph\":null},\"id\":\"729f1eda-3b4f-467f-baa4-a7cce1fe2162\",\"type\":\"GlyphRenderer\"},{\"attributes\":{\"color_mapper\":{\"id\":\"51ccda55-3440-4325-aff2-e9d725947bcd\",\"type\":\"LinearColorMapper\"},\"dh\":{\"units\":\"data\",\"value\":40},\"dw\":{\"units\":\"data\",\"value\":60},\"image\":{\"field\":\"image\"},\"x\":{\"value\":0},\"y\":{\"value\":40}},\"id\":\"2e5b4efb-1a36-445f-bde2-e29ce4ac3f31\",\"type\":\"Image\"},{\"attributes\":{\"bottom_units\":\"screen\",\"fill_alpha\":{\"value\":0.5},\"fill_color\":{\"value\":\"lightgrey\"},\"left_units\":\"screen\",\"level\":\"overlay\",\"line_alpha\":{\"value\":1.0},\"line_color\":{\"value\":\"black\"},\"line_dash\":[4,4],\"line_width\":{\"value\":2},\"plot\":null,\"render_mode\":\"css\",\"right_units\":\"screen\",\"top_units\":\"screen\"},\"id\":\"3f0476a7-152d-4689-80f8-1b5cf68b6924\",\"type\":\"BoxAnnotation\"},{\"attributes\":{\"active_drag\":\"auto\",\"active_scroll\":\"auto\",\"active_tap\":\"auto\",\"tools\":[{\"id\":\"8f8efc01-feea-4431-9448-819299cc3b92\",\"type\":\"PanTool\"},{\"id\":\"b24c38f3-f1af-4d7f-87a5-254dfb440ca0\",\"type\":\"WheelZoomTool\"},{\"id\":\"0569124a-f202-4534-b946-9d5f3270acd4\",\"type\":\"BoxZoomTool\"},{\"id\":\"d1c2f57a-d14d-4885-9b15-0b67e1f1688b\",\"type\":\"SaveTool\"},{\"id\":\"72709135-c183-41ff-b638-0de47daf4dc5\",\"type\":\"ResetTool\"},{\"id\":\"d1f38334-ac33-47e9-a043-d98268f8a7cd\",\"type\":\"HelpTool\"}]},\"id\":\"3e50dca1-40f4-4c88-8c92-4174cd6c4e7d\",\"type\":\"Toolbar\"},{\"attributes\":{\"dimension\":1,\"plot\":{\"id\":\"8a9d1a2f-590b-4316-b439-b3dc31451c44\",\"subtype\":\"Figure\",\"type\":\"Plot\"},\"ticker\":{\"id\":\"ed1a56c5-3eae-4cb2-a3fb-28773f3c2be6\",\"type\":\"BasicTicker\"}},\"id\":\"11873b2e-9ac2-40ce-a760-8143e6a9371f\",\"type\":\"Grid\"},{\"attributes\":{\"plot\":{\"id\":\"8a9d1a2f-590b-4316-b439-b3dc31451c44\",\"subtype\":\"Figure\",\"type\":\"Plot\"},\"ticker\":{\"id\":\"c2ce80ff-e8a6-416c-8797-92de164cb0a9\",\"type\":\"BasicTicker\"}},\"id\":\"7cda1ac0-c3cf-4ccd-8a7c-8c507ab33778\",\"type\":\"Grid\"},{\"attributes\":{\"callback\":null,\"end\":60},\"id\":\"3f24523a-209e-4c71-8c18-7e2ca6dc18be\",\"type\":\"Range1d\"},{\"attributes\":{\"fill_color\":{\"value\":null},\"line_width\":{\"value\":2},\"size\":{\"units\":\"screen\",\"value\":10},\"x\":{\"field\":\"x\"},\"y\":{\"field\":\"y\"}},\"id\":\"0ded9d0f-db21-4752-9979-f52b0a132d50\",\"type\":\"Circle\"},{\"attributes\":{\"data_source\":{\"id\":\"96dd2fee-2074-4638-a821-c9e8a16c7f28\",\"type\":\"ColumnDataSource\"},\"glyph\":{\"id\":\"ae16c748-a55f-4c8f-86f6-2eefe65e9999\",\"type\":\"Patches\"},\"hover_glyph\":null,\"nonselection_glyph\":{\"id\":\"34f92e17-83d0-48a8-80d1-8049247147d0\",\"type\":\"Patches\"},\"selection_glyph\":null},\"id\":\"c470e588-df75-4369-aae3-d3067e32d6c6\",\"type\":\"GlyphRenderer\"},{\"attributes\":{\"callback\":null,\"column_names\":[\"xs\",\"ys\"],\"data\":{\"xs\":[{\"__ndarray__\":\"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\",\"dtype\":\"float64\",\"shape\":[449]}],\"ys\":[{\"__ndarray__\":\"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\",\"dtype\":\"float64\",\"shape\":[449]}]}},\"id\":\"96dd2fee-2074-4638-a821-c9e8a16c7f28\",\"type\":\"ColumnDataSource\"},{\"attributes\":{\"formatter\":{\"id\":\"7487e281-8ff6-4cec-9d4d-429513171ca8\",\"type\":\"BasicTickFormatter\"},\"plot\":{\"id\":\"8a9d1a2f-590b-4316-b439-b3dc31451c44\",\"subtype\":\"Figure\",\"type\":\"Plot\"},\"ticker\":{\"id\":\"ed1a56c5-3eae-4cb2-a3fb-28773f3c2be6\",\"type\":\"BasicTicker\"}},\"id\":\"6d62d65e-e5bf-4124-a2d2-9ae42ab7a8aa\",\"type\":\"LinearAxis\"},{\"attributes\":{},\"id\":\"f909d1f3-7e35-4a99-889e-6f6728a925d4\",\"type\":\"ToolEvents\"},{\"attributes\":{},\"id\":\"c2ce80ff-e8a6-416c-8797-92de164cb0a9\",\"type\":\"BasicTicker\"},{\"attributes\":{\"fill_alpha\":{\"value\":0.1},\"fill_color\":{\"value\":\"#1f77b4\"},\"line_alpha\":{\"value\":0.1},\"line_color\":{\"value\":\"#1f77b4\"},\"line_width\":{\"value\":2},\"xs\":{\"field\":\"xs\"},\"ys\":{\"field\":\"ys\"}},\"id\":\"34f92e17-83d0-48a8-80d1-8049247147d0\",\"type\":\"Patches\"},{\"attributes\":{\"below\":[{\"id\":\"f52e5c6d-e3f5-438f-bf23-e49f5c81df8e\",\"type\":\"LinearAxis\"}],\"left\":[{\"id\":\"6d62d65e-e5bf-4124-a2d2-9ae42ab7a8aa\",\"type\":\"LinearAxis\"}],\"renderers\":[{\"id\":\"f52e5c6d-e3f5-438f-bf23-e49f5c81df8e\",\"type\":\"LinearAxis\"},{\"id\":\"7cda1ac0-c3cf-4ccd-8a7c-8c507ab33778\",\"type\":\"Grid\"},{\"id\":\"6d62d65e-e5bf-4124-a2d2-9ae42ab7a8aa\",\"type\":\"LinearAxis\"},{\"id\":\"11873b2e-9ac2-40ce-a760-8143e6a9371f\",\"type\":\"Grid\"},{\"id\":\"3f0476a7-152d-4689-80f8-1b5cf68b6924\",\"type\":\"BoxAnnotation\"},{\"id\":\"31487e6d-a1cd-4de2-93b4-9afae3077544\",\"type\":\"GlyphRenderer\"},{\"id\":\"729f1eda-3b4f-467f-baa4-a7cce1fe2162\",\"type\":\"GlyphRenderer\"},{\"id\":\"c470e588-df75-4369-aae3-d3067e32d6c6\",\"type\":\"GlyphRenderer\"}],\"title\":{\"id\":\"614a00a3-7e14-4120-be93-be30867fa0f4\",\"type\":\"Title\"},\"tool_events\":{\"id\":\"f909d1f3-7e35-4a99-889e-6f6728a925d4\",\"type\":\"ToolEvents\"},\"toolbar\":{\"id\":\"3e50dca1-40f4-4c88-8c92-4174cd6c4e7d\",\"type\":\"Toolbar\"},\"x_range\":{\"id\":\"3f24523a-209e-4c71-8c18-7e2ca6dc18be\",\"type\":\"Range1d\"},\"y_range\":{\"id\":\"8ca9dd59-e38d-4322-b1e7-fcb83ecf15a2\",\"type\":\"Range1d\"}},\"id\":\"8a9d1a2f-590b-4316-b439-b3dc31451c44\",\"subtype\":\"Figure\",\"type\":\"Plot\"},{\"attributes\":{\"formatter\":{\"id\":\"9db2ebc5-35a9-4b14-94b9-cb731af9210a\",\"type\":\"BasicTickFormatter\"},\"plot\":{\"id\":\"8a9d1a2f-590b-4316-b439-b3dc31451c44\",\"subtype\":\"Figure\",\"type\":\"Plot\"},\"ticker\":{\"id\":\"c2ce80ff-e8a6-416c-8797-92de164cb0a9\",\"type\":\"BasicTicker\"}},\"id\":\"f52e5c6d-e3f5-438f-bf23-e49f5c81df8e\",\"type\":\"LinearAxis\"},{\"attributes\":{},\"id\":\"9db2ebc5-35a9-4b14-94b9-cb731af9210a\",\"type\":\"BasicTickFormatter\"},{\"attributes\":{\"data_source\":{\"id\":\"33d252a1-ae0a-4374-9c7e-86f46f2acbe3\",\"type\":\"ColumnDataSource\"},\"glyph\":{\"id\":\"2e5b4efb-1a36-445f-bde2-e29ce4ac3f31\",\"type\":\"Image\"},\"hover_glyph\":null,\"nonselection_glyph\":{\"id\":\"f6979aa9-3e06-4ef6-b381-09aba3af85a7\",\"type\":\"Image\"},\"selection_glyph\":null},\"id\":\"31487e6d-a1cd-4de2-93b4-9afae3077544\",\"type\":\"GlyphRenderer\"},{\"attributes\":{\"plot\":null,\"text\":\"\"},\"id\":\"614a00a3-7e14-4120-be93-be30867fa0f4\",\"type\":\"Title\"},{\"attributes\":{\"plot\":{\"id\":\"8a9d1a2f-590b-4316-b439-b3dc31451c44\",\"subtype\":\"Figure\",\"type\":\"Plot\"}},\"id\":\"d1f38334-ac33-47e9-a043-d98268f8a7cd\",\"type\":\"HelpTool\"},{\"attributes\":{},\"id\":\"7487e281-8ff6-4cec-9d4d-429513171ca8\",\"type\":\"BasicTickFormatter\"},{\"attributes\":{\"plot\":{\"id\":\"8a9d1a2f-590b-4316-b439-b3dc31451c44\",\"subtype\":\"Figure\",\"type\":\"Plot\"}},\"id\":\"72709135-c183-41ff-b638-0de47daf4dc5\",\"type\":\"ResetTool\"},{\"attributes\":{\"plot\":{\"id\":\"8a9d1a2f-590b-4316-b439-b3dc31451c44\",\"subtype\":\"Figure\",\"type\":\"Plot\"}},\"id\":\"d1c2f57a-d14d-4885-9b15-0b67e1f1688b\",\"type\":\"SaveTool\"}],\"root_ids\":[\"8a9d1a2f-590b-4316-b439-b3dc31451c44\"]},\"title\":\"Bokeh Application\",\"version\":\"0.12.4\"}};\n",
       "            var render_items = [{\"docid\":\"ac7ae627-c390-4cc1-b37b-d97b63bcda85\",\"elementid\":\"57c60322-a5b2-4ffb-83d0-5324a3fb978c\",\"modelid\":\"8a9d1a2f-590b-4316-b439-b3dc31451c44\"}];\n",
       "            \n",
       "            Bokeh.embed.embed_items(docs_json, render_items);\n",
       "          };\n",
       "          if (document.readyState != \"loading\") fn();\n",
       "          else document.addEventListener(\"DOMContentLoaded\", fn);\n",
       "        })();\n",
       "      },\n",
       "      function(Bokeh) {\n",
       "      }\n",
       "    ];\n",
       "  \n",
       "    function run_inline_js() {\n",
       "      \n",
       "      if ((window.Bokeh !== undefined) || (force === true)) {\n",
       "        for (var i = 0; i < inline_js.length; i++) {\n",
       "          inline_js[i](window.Bokeh);\n",
       "        }if (force === true) {\n",
       "          display_loaded();\n",
       "        }} else if (Date.now() < window._bokeh_timeout) {\n",
       "        setTimeout(run_inline_js, 100);\n",
       "      } else if (!window._bokeh_failed_load) {\n",
       "        console.log(\"Bokeh: BokehJS failed to load within specified timeout.\");\n",
       "        window._bokeh_failed_load = true;\n",
       "      } else if (force !== true) {\n",
       "        var cell = $(document.getElementById(\"57c60322-a5b2-4ffb-83d0-5324a3fb978c\")).parents('.cell').data().cell;\n",
       "        cell.output_area.append_execute_result(NB_LOAD_WARNING)\n",
       "      }\n",
       "  \n",
       "    }\n",
       "  \n",
       "    if (window._bokeh_is_loading === 0) {\n",
       "      console.log(\"Bokeh: BokehJS loaded, going straight to plotting\");\n",
       "      run_inline_js();\n",
       "    } else {\n",
       "      load_libs(js_urls, function() {\n",
       "        console.log(\"Bokeh: BokehJS plotting callback run at\", now());\n",
       "        run_inline_js();\n",
       "      });\n",
       "    }\n",
       "  }(this));\n",
       "</script>"
      ]
     },
     "metadata": {},
     "output_type": "display_data"
    }
   ],
   "source": [
    "# view components\n",
    "if type(cnm.A) == np.core.memmap:\n",
    "    p1=nb_plot_contour(images.mean(0),cnm.A,dims[0],dims[1],thr=0.9,face_color=None, line_color='black',alpha=0.4,line_width=2)\n",
    "else:\n",
    "    p1=nb_plot_contour(images.mean(0),cnm.A.todense(),dims[0],dims[1],thr=0.9,face_color=None, line_color='black',alpha=0.4,line_width=2)\n",
    "bpl.show(p1)"
   ]
  },
  {
   "cell_type": "code",
   "execution_count": 12,
   "metadata": {
    "collapsed": false
   },
   "outputs": [
    {
     "name": "stdout",
     "output_type": "stream",
     "text": [
      "Stopping  cluster to avoid unnencessary use of memory....\n",
      "Stopping cluster...\n",
      "NOT SLURM\n",
      "Waiting for cluster to stop....... done\n"
     ]
    }
   ],
   "source": [
    "# STOP CLUSTER\n",
    "print(\"Stopping  cluster to avoid unnencessary use of memory....\")\n",
    "sys.stdout.flush()  \n",
    "cm.stop_server()"
   ]
  }
 ],
 "metadata": {
  "kernelspec": {
   "display_name": "Python 3",
   "language": "python",
   "name": "python3"
  },
  "language_info": {
   "codemirror_mode": {
    "name": "ipython",
    "version": 3
   },
   "file_extension": ".py",
   "mimetype": "text/x-python",
   "name": "python",
   "nbconvert_exporter": "python",
   "pygments_lexer": "ipython3",
   "version": "3.6.0"
  }
 },
 "nbformat": 4,
 "nbformat_minor": 2
}
